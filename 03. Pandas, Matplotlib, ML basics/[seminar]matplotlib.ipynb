{
 "cells": [
  {
   "cell_type": "markdown",
   "metadata": {
    "colab_type": "text",
    "id": "H3DhPViKKByC"
   },
   "source": [
    "<img src=\"https://s8.hostingkartinok.com/uploads/images/2018/08/308b49fcfbc619d629fe4604bceb67ac.jpg\" width=500, height=450>\n",
    "<h3 style=\"text-align: center;\"><b>Phystech School of Applied Mathematics and Informatics (PSAMI) MIPT</b></h3>"
   ]
  },
  {
   "cell_type": "markdown",
   "metadata": {},
   "source": [
    "<h2 style=\"text-align: center;\"><b>Python. Matplotlib</b></h2>"
   ]
  },
  {
   "cell_type": "markdown",
   "metadata": {},
   "source": [
    "<img align=left src=\"https://cdn.fedoramagazine.org/wp-content/uploads/2015/11/Python_logo.png\" style=\"height:160px;\" />\n",
    "\n",
    "<img align=center src=\"https://d1.awsstatic.com/product-marketing/MXNet/matplotliblogo.da9fb710a95657990c795230d3207471ed3613e5.png\" style=\"height:90px;\" />"
   ]
  },
  {
   "cell_type": "markdown",
   "metadata": {},
   "source": [
    "If the jupyter notebook executes the special ipython command% matplotlib inline, then the graphs will be plotted in the same browser window (and not opened in a new one)."
   ]
  },
  {
   "cell_type": "markdown",
   "metadata": {
    "colab_type": "text",
    "id": "ZYrqkk3X2fVq"
   },
   "source": [
    "<b>matplotlib.pyplot</b> is a collection of command style functions that make matplotlib work like MATLAB. Each pyplot function makes some change to a figure: e.g., creates a figure, creates a plotting area in a figure, plots some lines in a plotting area, decorates the plot with labels, etc."
   ]
  },
  {
   "cell_type": "code",
   "execution_count": null,
   "metadata": {
    "colab": {},
    "colab_type": "code",
    "id": "gcxrWLxr2fVr"
   },
   "outputs": [],
   "source": [
    "import numpy as np\n",
    "%matplotlib inline\n",
    "import matplotlib.pyplot as plt"
   ]
  },
  {
   "cell_type": "markdown",
   "metadata": {
    "colab_type": "text",
    "id": "jVb1gOmn2fVu"
   },
   "source": [
    "The end of the winter is the time when a lot of people are sick. We construct the dependence of the number of patients in the Smith and Brown family on the temperature outside. 5 measurements were made at 5 different temperatures."
   ]
  },
  {
   "cell_type": "markdown",
   "metadata": {},
   "source": [
    "Generate data:"
   ]
  },
  {
   "cell_type": "code",
   "execution_count": null,
   "metadata": {},
   "outputs": [],
   "source": [
    "# poisson distribution\n",
    "family_smith = np.random.poisson(5, size=5) \n",
    "family_brown = np.random.poisson(5, size=5)\n",
    "T = np.arange(0, 10, 2) # temperature range (degrees Celsius)"
   ]
  },
  {
   "cell_type": "markdown",
   "metadata": {
    "colab_type": "text",
    "id": "3zZlsjNs2fVv"
   },
   "source": [
    "We have a discrete distribution, so the most obvious representation is the usual points."
   ]
  },
  {
   "cell_type": "code",
   "execution_count": null,
   "metadata": {
    "colab": {
     "base_uri": "https://localhost:8080/",
     "height": 294
    },
    "colab_type": "code",
    "executionInfo": {
     "elapsed": 790,
     "status": "ok",
     "timestamp": 1539035896322,
     "user": {
      "displayName": "Егор Зайцев",
      "photoUrl": "",
      "userId": "17450187717660395374"
     },
     "user_tz": -120
    },
    "id": "2sUO-Ea82fVv",
    "outputId": "5f4eaf6d-46d4-4155-d6a1-82f26bbe2f7d"
   },
   "outputs": [],
   "source": [
    "plt.scatter(T, family_smith, label='Smith')\n",
    "plt.scatter(T, family_brown, label='Brown')\n",
    "plt.title('Patient statistics')\n",
    "plt.ylabel('Number of patients')\n",
    "plt.xlabel('T (degrees Celsius)')\n",
    "plt.legend()\n",
    "plt.show()"
   ]
  },
  {
   "cell_type": "markdown",
   "metadata": {
    "colab_type": "text",
    "id": "L0TcNegQ2fVz"
   },
   "source": [
    "Now we will use a continuous view to track the dependency better"
   ]
  },
  {
   "cell_type": "code",
   "execution_count": null,
   "metadata": {
    "colab": {
     "base_uri": "https://localhost:8080/",
     "height": 294
    },
    "colab_type": "code",
    "executionInfo": {
     "elapsed": 778,
     "status": "ok",
     "timestamp": 1539035899071,
     "user": {
      "displayName": "Егор Зайцев",
      "photoUrl": "",
      "userId": "17450187717660395374"
     },
     "user_tz": -120
    },
    "id": "ZvjToY-P2fV0",
    "outputId": "093cbf16-e23b-46f5-bb8a-f3054b8bd445"
   },
   "outputs": [],
   "source": [
    "plt.plot(T, family_smith, '--', label='Smith')\n",
    "plt.plot(T, family_brown, '--', label='Brown')\n",
    "plt.title('Patient statistics')\n",
    "plt.ylabel('Number of patients')\n",
    "plt.xlabel('T (degrees Celsius)')\n",
    "plt.legend()\n",
    "plt.show()"
   ]
  },
  {
   "cell_type": "markdown",
   "metadata": {
    "colab_type": "text",
    "id": "-SRyew4c2fV4"
   },
   "source": [
    "Let's try another view of the received data using the bar-chart:"
   ]
  },
  {
   "cell_type": "code",
   "execution_count": null,
   "metadata": {
    "colab": {
     "base_uri": "https://localhost:8080/",
     "height": 294
    },
    "colab_type": "code",
    "executionInfo": {
     "elapsed": 673,
     "status": "ok",
     "timestamp": 1539035901989,
     "user": {
      "displayName": "Егор Зайцев",
      "photoUrl": "",
      "userId": "17450187717660395374"
     },
     "user_tz": -120
    },
    "id": "uZ2PBJI92fV4",
    "outputId": "08c48abf-0dc1-4249-ad5c-cb8ecef837fc"
   },
   "outputs": [],
   "source": [
    "# Transparency of the bar chart. If alpha is one it will be completely opaque.\n",
    "plt.bar(T, family_smith, alpha=0.6, label='Smith', color='r')\n",
    "plt.bar(T, family_brown, alpha=0.6, label='Brown', color='b')\n",
    "plt.title('Patient statistics')\n",
    "plt.ylabel('Number of patients')\n",
    "plt.xlabel('T (degrees Celsius)')\n",
    "plt.legend()\n",
    "plt.show()\n"
   ]
  },
  {
   "cell_type": "markdown",
   "metadata": {
    "colab_type": "text",
    "id": "IUB1pfiG2fV7"
   },
   "source": [
    "I would like to make the dependency functions smoother. Interpolate a 1-D function with quadratic functions. If “extrapolate”, then points outside the data range will be extrapolated."
   ]
  },
  {
   "cell_type": "code",
   "execution_count": null,
   "metadata": {
    "colab": {},
    "colab_type": "code",
    "id": "1P0WQQHp2fV7"
   },
   "outputs": [],
   "source": [
    "\n",
    "from scipy.interpolate import interp1d\n",
    "f_smith = interp1d(np.arange(0, 10, 2), family_smith, kind='quadratic', fill_value=\"extrapolate\")\n",
    "f_brown = interp1d(np.arange(0, 10, 2), family_brown, kind='quadratic', fill_value=\"extrapolate\")"
   ]
  },
  {
   "cell_type": "markdown",
   "metadata": {
    "colab_type": "text",
    "id": "E-yPD1yl2fV9"
   },
   "source": [
    "Let's display the resulting functions. Increase the number of points because the function is already continuous."
   ]
  },
  {
   "cell_type": "code",
   "execution_count": null,
   "metadata": {
    "colab": {
     "base_uri": "https://localhost:8080/",
     "height": 294
    },
    "colab_type": "code",
    "executionInfo": {
     "elapsed": 742,
     "status": "ok",
     "timestamp": 1539035909417,
     "user": {
      "displayName": "Егор Зайцев",
      "photoUrl": "",
      "userId": "17450187717660395374"
     },
     "user_tz": -120
    },
    "id": "zvD2iQWg2fV-",
    "outputId": "1d70a254-d172-4406-e230-c1362434033e"
   },
   "outputs": [],
   "source": [
    "T_new = np.arange(0, 8.1, 0.1)\n",
    "y_smith = f_smith(T_new)\n",
    "y_brown = f_brown(T_new)\n",
    "plt.plot(T_new, y_smith, label='Smith')\n",
    "plt.plot(T_new, y_brown, label='Brown')\n",
    "plt.title('Patient statistics')\n",
    "plt.ylabel('Number of patients')\n",
    "plt.xlabel('T (degrees Celsius)')\n",
    "plt.legend()\n",
    "plt.show()"
   ]
  },
  {
   "cell_type": "markdown",
   "metadata": {
    "colab_type": "text",
    "id": "-lkYDoy52fWC"
   },
   "source": [
    "Find the most optimal temperature for each family."
   ]
  },
  {
   "cell_type": "code",
   "execution_count": null,
   "metadata": {
    "colab": {
     "base_uri": "https://localhost:8080/",
     "height": 294
    },
    "colab_type": "code",
    "executionInfo": {
     "elapsed": 675,
     "status": "ok",
     "timestamp": 1539035911465,
     "user": {
      "displayName": "Егор Зайцев",
      "photoUrl": "",
      "userId": "17450187717660395374"
     },
     "user_tz": -120
    },
    "id": "uiuEFODE2fWC",
    "outputId": "049e41c0-c10b-4fb2-d293-7cf059959147"
   },
   "outputs": [],
   "source": [
    "from scipy.optimize import minimize\n",
    "min_smith = minimize(f_smith, x0=4)\n",
    "min_brown = minimize(f_brown, x0=4)\n",
    "print('Optimal temperature for Smiths is', min_smith.x[0], 'degrees Celsius.')\n",
    "print('Optimal temperature for Brown is', min_brown.x[0], 'degrees Celsius.')"
   ]
  },
  {
   "cell_type": "markdown",
   "metadata": {},
   "source": [
    "As a result we consider the most common types of two-dimensional graphics and their parameters step by step."
   ]
  }
 ],
 "metadata": {
  "colab": {
   "collapsed_sections": [],
   "name": "[seminar]matplotlib.ipynb",
   "provenance": [],
   "version": "0.3.2"
  },
  "kernelspec": {
   "display_name": "Python 3",
   "language": "python",
   "name": "python3"
  },
  "language_info": {
   "codemirror_mode": {
    "name": "ipython",
    "version": 3
   },
   "file_extension": ".py",
   "mimetype": "text/x-python",
   "name": "python",
   "nbconvert_exporter": "python",
   "pygments_lexer": "ipython3",
   "version": "3.7.0"
  }
 },
 "nbformat": 4,
 "nbformat_minor": 1
}
