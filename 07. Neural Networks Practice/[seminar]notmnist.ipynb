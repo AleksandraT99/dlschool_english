{
 "cells": [
  {
   "cell_type": "markdown",
   "metadata": {},
   "source": [
    "<img src=\"https://s8.hostingkartinok.com/uploads/images/2018/08/308b49fcfbc619d629fe4604bceb67ac.jpg\" width=500, height=450>\n",
    "<h3 style=\"text-align: center;\"><b>PhysTech School of Applied Mathematics and Informatics (FPMI) MIPT </b> </h3>"
   ]
  },
  {
   "cell_type": "markdown",
   "metadata": {},
   "source": [
    "---"
   ]
  },
  {
   "cell_type": "markdown",
   "metadata": {},
   "source": [
    "<h2 style=\"text-align: center;\"><b>Neural networks training practice (notMNIST dataset)</b></h2>"
   ]
  },
  {
   "cell_type": "markdown",
   "metadata": {},
   "source": [
    "---"
   ]
  },
  {
   "cell_type": "code",
   "execution_count": 1,
   "metadata": {
    "colab": {},
    "colab_type": "code",
    "id": "bsVvlhWKXSFq"
   },
   "outputs": [],
   "source": [
    "import numpy as np\n",
    "import pandas as pd\n",
    "import os\n",
    "import matplotlib.pyplot as plt\n",
    "%matplotlib inline"
   ]
  },
  {
   "cell_type": "code",
   "execution_count": 2,
   "metadata": {
    "colab": {
     "base_uri": "https://localhost:8080/",
     "height": 362
    },
    "colab_type": "code",
    "id": "aTHjmQeBXSFw",
    "outputId": "3a2e8f9d-0c54-41f9-d462-2bd2386b62f7"
   },
   "outputs": [],
   "source": [
    "from torch.autograd import Variable\n",
    "import torch.nn as nn\n",
    "import torch.nn.functional as F\n",
    "import torch.optim as optim\n",
    "import torch.utils.data as data_utils\n",
    "import torch\n",
    "\n",
    "import torchvision\n",
    "from torchvision import transforms\n",
    "from PIL import Image"
   ]
  },
  {
   "cell_type": "markdown",
   "metadata": {},
   "source": [
    "---"
   ]
  },
  {
   "cell_type": "markdown",
   "metadata": {
    "colab_type": "text",
    "id": "G8US0XxAeYBK"
   },
   "source": [
    "#### If you work in colab.google, please run these two cells below:\n",
    "\n",
    "(they are needed to install certain libraries)"
   ]
  },
  {
   "cell_type": "code",
   "execution_count": 4,
   "metadata": {
    "colab": {
     "base_uri": "https://localhost:8080/",
     "height": 125
    },
    "colab_type": "code",
    "id": "HyLx61vMilm2",
    "outputId": "79e994fe-1759-41f6-e9e8-b53d2c861e0f"
   },
   "outputs": [],
   "source": [
    "# !pip install --no-cache-dir -I pillow"
   ]
  },
  {
   "cell_type": "code",
   "execution_count": 5,
   "metadata": {
    "colab": {
     "base_uri": "https://localhost:8080/",
     "height": 55
    },
    "colab_type": "code",
    "id": "giNXqaMhYDhB",
    "outputId": "8959cee5-7c6e-4a8b-b1ab-3844aec477d9"
   },
   "outputs": [],
   "source": [
    "# http://pytorch.org/\n",
    "# from os.path import exists\n",
    "# from wheel.pep425tags import get_abbr_impl, get_impl_ver, get_abi_tag\n",
    "# platform = '{}{}-{}'.format(get_abbr_impl(), get_impl_ver(), get_abi_tag())\n",
    "# cuda_output = !ldconfig -p|grep cudart.so|sed -e 's/.*\\.\\([0-9]*\\)\\.\\([0-9]*\\)$/cu\\1\\2/'\n",
    "# accelerator = cuda_output[0] if exists('/dev/nvidia0') else 'cpu'\n",
    "\n",
    "# !pip install -q http://download.pytorch.org/whl/{accelerator}/torch-0.4.1-{platform}-linux_x86_64.whl torchvision\n",
    "# import torch"
   ]
  },
  {
   "cell_type": "markdown",
   "metadata": {},
   "source": [
    "---"
   ]
  },
  {
   "cell_type": "markdown",
   "metadata": {
    "colab_type": "text",
    "id": "EuIZP9T8XSF1"
   },
   "source": [
    "In this notebook we will work with a notMNIST dataset. It is a 10-class classification task (as in usual MNIST), but in noMNIST classes are not numbers, but latin letters from **A** to **J**\n",
    "\n",
    "Data divided into train and val sets is available here: \n",
    "https://drive.google.com/drive/u/2/folders/1d_Wca5S60SM8qHqpkwqGuBK54vLYi7pa"
   ]
  },
  {
   "cell_type": "code",
   "execution_count": 4,
   "metadata": {
    "colab": {
     "base_uri": "https://localhost:8080/",
     "height": 201
    },
    "colab_type": "code",
    "id": "5TT_UummXSF3",
    "outputId": "c77a5cd5-979b-4b85-b97a-d36a1b713420"
   },
   "outputs": [],
   "source": [
    "# we have put train dataset into ./notMNIST_train dir\n",
    "classes = os.listdir(\"./notMNIST_train\")"
   ]
  },
  {
   "cell_type": "code",
   "execution_count": 5,
   "metadata": {
    "colab": {
     "base_uri": "https://localhost:8080/",
     "height": 34
    },
    "colab_type": "code",
    "id": "LGc3PjrtXSF8",
    "outputId": "c3da152b-30b4-459c-8f46-3863942c0536"
   },
   "outputs": [
    {
     "data": {
      "text/plain": [
       "['A', 'B', 'C', 'D', 'E', 'F', 'G', 'H', 'I', 'J']"
      ]
     },
     "execution_count": 5,
     "metadata": {},
     "output_type": "execute_result"
    }
   ],
   "source": [
    "n_classes = len(classes)\n",
    "classes = sorted(classes)\n",
    "classes"
   ]
  },
  {
   "cell_type": "markdown",
   "metadata": {
    "colab_type": "text",
    "id": "V7hsnbf7XSGD"
   },
   "source": [
    "All the letters images are of size 28$\\times$28. Let's create constant variables for image height and width to use it after:"
   ]
  },
  {
   "cell_type": "code",
   "execution_count": 6,
   "metadata": {
    "colab": {},
    "colab_type": "code",
    "id": "p9HuhL3BXSGF"
   },
   "outputs": [],
   "source": [
    "IMG_H = 28\n",
    "IMG_W = 28"
   ]
  },
  {
   "cell_type": "markdown",
   "metadata": {},
   "source": [
    "To make our work easier, let's use torch dataloader to load our data. To be able to use it, we need to make our directory with train and val data look like this:\n",
    "\n",
    " \n",
    "<ul> \n",
    "     <li> notMNIST_train\n",
    "         <ul>\n",
    "              <li>Letter1 (A)\n",
    "                  <ul> \n",
    "                      <li>img1.jpg</li>\n",
    "                      <li>img2.jpg</li>\n",
    "                      <li>...</li>\n",
    "                  </ul>\n",
    "              </li>\n",
    "              <li>Letter2 (B)\n",
    "                  <ul> \n",
    "                      <li>img1.jpg</li>\n",
    "                      <li>img2.jpg</li>\n",
    "                      <li>...</li>\n",
    "                  </ul>\n",
    "              </li>\n",
    "              <li>...</li>\n",
    "           </ul> \n",
    "       </li>\n",
    "   </ul>\n",
    "   \n",
    "   \n",
    "-- Train and val directories must contain one folder for each class named as class name, and inside those folders must be images of corresponding class.\n",
    "\n",
    "If our datasets folders are arranged like this, we can then use torchvision.datasets.ImageFolder to load data from it.\n",
    "As arguments torchvision.datasets.ImageFolder takes dataset directory name and transformations (torchvision.transforms) to be applied to the images before training. For example, if in our dataset images were of different size, we would like to have them all of one size after loading, so we would use resize transformation. In our current dataset, however, we have all the images of equal size, but we will use transformations that convert RGB images to grayscale for easier training of our network, and, of course, a transformation that converts images to torch tensors to be able to feed them to the net."
   ]
  },
  {
   "cell_type": "code",
   "execution_count": 7,
   "metadata": {},
   "outputs": [],
   "source": [
    "train_data = torchvision.datasets.ImageFolder('./notMNIST_train/', transform=transforms.Compose([\n",
    "    transforms.Grayscale(num_output_channels=1),\n",
    "    transforms.ToTensor()])\n",
    "    )\n",
    "\n",
    "val_data = torchvision.datasets.ImageFolder('./notMNIST_val/', transform=transforms.Compose([\n",
    "    transforms.Grayscale(num_output_channels=1),\n",
    "    transforms.ToTensor()])\n",
    "    )"
   ]
  },
  {
   "cell_type": "markdown",
   "metadata": {},
   "source": [
    "After this we will only need to cover an object returned from torchvision.datasets.ImageFolder into data_utils.DataLoader to get an object that will generate batches of data to feed into our net. No need to write mini-batch generators by self!"
   ]
  },
  {
   "cell_type": "code",
   "execution_count": 8,
   "metadata": {
    "colab": {},
    "colab_type": "code",
    "id": "yC95aekCXSGK"
   },
   "outputs": [],
   "source": [
    "batch_size = 64\n",
    "\n",
    "train_loader = data_utils.DataLoader(train_data, batch_size=batch_size, shuffle=True)\n",
    "val_loader = data_utils.DataLoader(val_data, batch_size=1, shuffle=False)"
   ]
  },
  {
   "cell_type": "markdown",
   "metadata": {
    "colab_type": "text",
    "id": "8SKAqjJPXSGO"
   },
   "source": [
    "Finally let's look how our images from dataset look loke:"
   ]
  },
  {
   "cell_type": "code",
   "execution_count": 9,
   "metadata": {
    "colab": {
     "base_uri": "https://localhost:8080/",
     "height": 376
    },
    "colab_type": "code",
    "id": "nJf-NtDjXSGO",
    "outputId": "3bf7cdf0-219a-431c-f391-2586e9df4b29"
   },
   "outputs": [
    {
     "data": {
      "image/png": "[encoded data removed]",
      "text/plain": [
       "<Figure size 648x367.2 with 18 Axes>"
      ]
     },
     "metadata": {},
     "output_type": "display_data"
    }
   ],
   "source": [
    "def plot_gallery(images, labels, h, w, n_row=3, n_col=6):\n",
    "    \"\"\"Helper function to plot a gallery of images\"\"\"\n",
    "    plt.figure(figsize=(1.5 * n_col, 1.7 * n_row))\n",
    "    plt.subplots_adjust(bottom=0, left=.01, right=.99, top=.90, hspace=.35)\n",
    "    for i in range(n_row * n_col):\n",
    "        plt.subplot(n_row, n_col, i + 1)\n",
    "        plt.title(labels[i])\n",
    "        plt.imshow(images[i].numpy().reshape((28, 28)), cmap=plt.cm.gray, vmin=-1, vmax=1)\n",
    "        plt.xticks(())\n",
    "        plt.yticks(())\n",
    "\n",
    "\n",
    "\n",
    "# get random images from train dataset\n",
    "dataiter = iter(train_loader)\n",
    "images, labels = dataiter.next()\n",
    "\n",
    "# call a function that plot images to cell output\n",
    "plot_gallery(images, [classes[labels[j]] for j in range(len(images))], IMG_H, IMG_W)"
   ]
  },
  {
   "cell_type": "markdown",
   "metadata": {
    "colab_type": "text",
    "id": "vmYn5EbVXSGS"
   },
   "source": [
    "SO our data is ready. Now it's time to build a network."
   ]
  },
  {
   "cell_type": "code",
   "execution_count": 10,
   "metadata": {
    "colab": {},
    "colab_type": "code",
    "id": "Zv_l9GJYXSGT"
   },
   "outputs": [],
   "source": [
    "hid_size = 100\n",
    "out_size = n_classes\n",
    "\n",
    "class TwoLayerNet(nn.Module):\n",
    "    def __init__(self, h, w, hid_size, out_size):\n",
    "        super(TwoLayerNet, self).__init__()\n",
    "        # layers\n",
    "        self.linear1 = nn.Linear(h*w, hid_size)\n",
    "        self.linear2 = nn.Linear(hid_size, out_size)\n",
    "\n",
    "    def forward(self, x):\n",
    "        \n",
    "        x = self.linear1(x)\n",
    "        # activation function\n",
    "        x = F.relu(x)\n",
    "        x = self.linear2(x)\n",
    "        return x\n",
    "    \n",
    "two_layer_net = TwoLayerNet(h=IMG_H, w=IMG_W, hid_size=hid_size, out_size=out_size)"
   ]
  },
  {
   "cell_type": "markdown",
   "metadata": {
    "colab_type": "text",
    "id": "7Rf-ODstXSGW"
   },
   "source": [
    "As a loss function for our network we'll use cross-entropy:\n",
    "\n",
    "https://pytorch.org/docs/stable/nn.html#torch.nn.CrossEntropyLoss"
   ]
  },
  {
   "cell_type": "code",
   "execution_count": 12,
   "metadata": {
    "colab": {},
    "colab_type": "code",
    "id": "edzUtVVVXSGX"
   },
   "outputs": [],
   "source": [
    "loss_fn = torch.nn.CrossEntropyLoss()"
   ]
  },
  {
   "cell_type": "markdown",
   "metadata": {
    "colab_type": "text",
    "id": "ced5_FMTXSGZ"
   },
   "source": [
    "Define learning rate and optimizer -- SGD (we should be already familiar with it)"
   ]
  },
  {
   "cell_type": "code",
   "execution_count": 13,
   "metadata": {
    "colab": {},
    "colab_type": "code",
    "id": "wNMKqnS1XSGa"
   },
   "outputs": [],
   "source": [
    "learning_rate = 1e-3\n",
    "optimizer = torch.optim.SGD(two_layer_net.parameters(), lr=learning_rate)"
   ]
  },
  {
   "cell_type": "markdown",
   "metadata": {
    "colab_type": "text",
    "id": "o4BunhF_XSGb"
   },
   "source": [
    "So, finally, a function that implements training:\n",
    "\n",
    "While training after each epoch we'll measure not only loss (cross-entropy) on train and val set, ut also accuracy. Why? Just because for a person who look on training it's easier to understand how good network is doing looking on accuracy value rather than on cross-entropy. "
   ]
  },
  {
   "cell_type": "code",
   "execution_count": 14,
   "metadata": {
    "colab": {},
    "colab_type": "code",
    "id": "AdkoQn5hXSGc",
    "scrolled": false
   },
   "outputs": [
    {
     "ename": "SyntaxError",
     "evalue": "invalid syntax (<ipython-input-14-a675f6920846>, line 22)",
     "output_type": "error",
     "traceback": [
      "\u001b[0;36m  File \u001b[0;32m\"<ipython-input-14-a675f6920846>\"\u001b[0;36m, line \u001b[0;32m22\u001b[0m\n\u001b[0;31m    <Your code here>\u001b[0m\n\u001b[0m    ^\u001b[0m\n\u001b[0;31mSyntaxError\u001b[0m\u001b[0;31m:\u001b[0m invalid syntax\n"
     ]
    }
   ],
   "source": [
    "from IPython import display\n",
    "from sklearn.metrics import accuracy_score\n",
    "from tqdm import tqdm\n",
    "\n",
    "def train(train_loader, val_loader, num_epochs=100):\n",
    "    train_losses = []\n",
    "    val_losses = []\n",
    "\n",
    "    train_acc = []\n",
    "    val_acc = []\n",
    "\n",
    "    for epoch in tqdm(range(num_epochs)):\n",
    "        display.clear_output(wait=True)\n",
    "        \n",
    "        # 1. forward\n",
    "        two_layer_net.train(True)\n",
    "        loss_batch = []\n",
    "        acc_batch = []\n",
    "        for x_train, y_train in train_loader:\n",
    "            x_train = Variable(x_train.view(x_train.shape[0], -1))\n",
    "            # 1.1 get network predictions\n",
    "            <Your code here>\n",
    "            # 1.2 compute accuracy on a batch of predictions and real values\n",
    "            <Your code here>\n",
    "            # 1.3 compute loss (cross-entropy)\n",
    "            <Your code here>\n",
    "            # 1.4 backward\n",
    "            <Your code here>\n",
    "            # 1.5 update\n",
    "            <Your code here>\n",
    "            # 1.6 null gradient\n",
    "            <Your code here>\n",
    "            # 1.7 store loss and accuracy to loss_batch, acc_batch\n",
    "            <Your code here>\n",
    "\n",
    "        train_losses.append(np.mean(loss_batch))\n",
    "        train_acc.append(np.mean(acc_batch))\n",
    "\n",
    "        # 2. val\n",
    "        two_layer_net.train(False)\n",
    "        loss_batch = []\n",
    "        acc_batch = []\n",
    "        for i, (x_val, y_val) in enumerate(val_loader):\n",
    "            x_val = Variable(x_val.view(x_val.shape[0], -1))\n",
    "            # 2.1 get network predictions\n",
    "            <Your code here>\n",
    "            # 2.2 compute accuracy on a batch of predictions and real values\n",
    "            <Your code here>\n",
    "            # 2.3 compute loss (cross-entropy)\n",
    "            <Your code here>\n",
    "            # 2.4 store loss and accuracy to loss_batch, acc_batch\n",
    "            <Your code here>\n",
    "\n",
    "        val_losses.append(np.mean(loss_batch))\n",
    "        val_acc.append(np.mean(acc_batch))\n",
    "\n",
    "        # 3. save model to file if on this epoch the network has updated\n",
    "        <Your code here>\n",
    "\n",
    "        # 4. show plot\n",
    "        <Your code here>\n",
    "\n",
    "        plt.title(\"losses\")\n",
    "        axes[0].plot(train_losses, label=\"train loss\")\n",
    "        axes[0].plot(val_losses, label=\"val loss\")\n",
    "        plt.legend()\n",
    "\n",
    "        plt.title(\"accuracies\")\n",
    "        axes[1].plot(train_acc, label=\"train accuracy\")\n",
    "        axes[1].plot(val_acc, label=\"val accuracy\")\n",
    "        plt.legend()\n",
    "\n",
    "        plt.show() \n",
    "        \n",
    "    print(\"Final loss: \", val_losses[-1])\n",
    "    print(\"Final accuracy: \", val_acc[-1])"
   ]
  },
  {
   "cell_type": "code",
   "execution_count": 12,
   "metadata": {
    "colab": {
     "base_uri": "https://localhost:8080/",
     "height": 458
    },
    "colab_type": "code",
    "id": "41A0oV7CXSGe",
    "outputId": "18e56dfb-a987-4688-b8d2-a52cc5fac9bd"
   },
   "outputs": [
    {
     "name": "stderr",
     "output_type": "stream",
     "text": [
      "No handles with labels found to put in legend.\n"
     ]
    },
    {
     "data": {
      "image/png": "[encoded data removed]",
      "text/plain": [
       "<matplotlib.figure.Figure at 0x7feb18c74860>"
      ]
     },
     "metadata": {
      "tags": []
     },
     "output_type": "display_data"
    },
    {
     "name": "stderr",
     "output_type": "stream",
     "text": [
      "\r",
      "100%|██████████| 20/20 [02:32<00:00,  7.73s/it]"
     ]
    },
    {
     "name": "stdout",
     "output_type": "stream",
     "text": [
      "Final loss:  0.6302164\n",
      "Final accuracy:  0.8625\n"
     ]
    },
    {
     "name": "stderr",
     "output_type": "stream",
     "text": [
      "\n"
     ]
    }
   ],
   "source": [
    "train(train_loader, val_loader, num_epochs=20)"
   ]
  },
  {
   "cell_type": "markdown",
   "metadata": {
    "colab_type": "text",
    "id": "CHeUGE3VXSGh"
   },
   "source": [
    "Let's now remember that SGD is not the only one optimizer exists. There are mamy more -- for example RMSprop, Adam, Adadelta, Adagrad...\n",
    "\n",
    "Nowadays the best one (talking about convergence speed) is believed to be Adam. So let's try to use Adam instead of SGD in our case:"
   ]
  },
  {
   "cell_type": "code",
   "execution_count": 0,
   "metadata": {
    "colab": {},
    "colab_type": "code",
    "id": "VheKSwnqXSGh"
   },
   "outputs": [],
   "source": [
    "two_layer_net = TwoLayerNet(h=IMG_H, w=IMG_W, hid_size=hid_size, out_size=out_size)\n",
    "loss_fn = torch.nn.CrossEntropyLoss()\n",
    "optimizer = torch.optim.Adam(two_layer_net.parameters(), lr=learning_rate)"
   ]
  },
  {
   "cell_type": "code",
   "execution_count": 14,
   "metadata": {
    "colab": {
     "base_uri": "https://localhost:8080/",
     "height": 458
    },
    "colab_type": "code",
    "id": "NcLvJzdvXSGj",
    "outputId": "94a10637-546d-4b01-e9c4-ec06454c63ee"
   },
   "outputs": [
    {
     "name": "stderr",
     "output_type": "stream",
     "text": [
      "No handles with labels found to put in legend.\n"
     ]
    },
    {
     "data": {
      "image/png": "[encoded data removed]",
      "text/plain": [
       "<matplotlib.figure.Figure at 0x7feb1e8c5550>"
      ]
     },
     "metadata": {
      "tags": []
     },
     "output_type": "display_data"
    },
    {
     "name": "stderr",
     "output_type": "stream",
     "text": [
      "\r",
      "100%|██████████| 10/10 [01:18<00:00,  7.90s/it]"
     ]
    },
    {
     "name": "stdout",
     "output_type": "stream",
     "text": [
      "Final loss:  0.3220149\n",
      "Final accuracy:  0.9096153846153846\n"
     ]
    },
    {
     "name": "stderr",
     "output_type": "stream",
     "text": [
      "\n"
     ]
    }
   ],
   "source": [
    "train(train_loader, val_loader, num_epochs=10)"
   ]
  },
  {
   "cell_type": "markdown",
   "metadata": {
    "colab_type": "text",
    "id": "Q4ahjvCVXSGm"
   },
   "source": [
    "Hmm, we can see a strong overfitting. How to deal with that? For example, we can reduce learning rate, then the weights will be updated more \"accurately\", and the training will be more stable. Let's try!"
   ]
  },
  {
   "cell_type": "code",
   "execution_count": 0,
   "metadata": {
    "colab": {},
    "colab_type": "code",
    "id": "Kl_4CrOCXSGn"
   },
   "outputs": [],
   "source": [
    "two_layer_net = TwoLayerNet(h=IMG_H, w=IMG_W, hid_size=hid_size, out_size=out_size)\n",
    "loss_fn = torch.nn.CrossEntropyLoss()\n",
    "learning_rate=1e-4\n",
    "optimizer = torch.optim.Adam(two_layer_net.parameters(), lr=learning_rate)"
   ]
  },
  {
   "cell_type": "code",
   "execution_count": 16,
   "metadata": {
    "colab": {
     "base_uri": "https://localhost:8080/",
     "height": 458
    },
    "colab_type": "code",
    "id": "re6dC_q8XSGo",
    "outputId": "9e429a9d-11a1-443d-a948-b52b1b880b9e"
   },
   "outputs": [
    {
     "name": "stderr",
     "output_type": "stream",
     "text": [
      "No handles with labels found to put in legend.\n"
     ]
    },
    {
     "data": {
      "image/png": "[encoded data removed]",
      "text/plain": [
       "<matplotlib.figure.Figure at 0x7feb1a590cf8>"
      ]
     },
     "metadata": {
      "tags": []
     },
     "output_type": "display_data"
    },
    {
     "name": "stderr",
     "output_type": "stream",
     "text": [
      "\r",
      "100%|██████████| 20/20 [02:36<00:00,  7.77s/it]"
     ]
    },
    {
     "name": "stdout",
     "output_type": "stream",
     "text": [
      "Final loss:  0.3521368\n",
      "Final accuracy:  0.9051282051282051\n"
     ]
    },
    {
     "name": "stderr",
     "output_type": "stream",
     "text": [
      "\n"
     ]
    }
   ],
   "source": [
    "train(train_loader, val_loader, num_epochs=20)"
   ]
  },
  {
   "cell_type": "markdown",
   "metadata": {
    "colab_type": "text",
    "id": "wgfB_lQKXSGr"
   },
   "source": [
    "So as we see, still taking 20 epochs, Adam managed to train our net 5% accuracy better, though we even hadn't tried to fit hyperparameters. However, we still se a slight overfitting."
   ]
  },
  {
   "cell_type": "markdown",
   "metadata": {
    "colab": {},
    "colab_type": "code",
    "id": "JLSXzuXdXSGs"
   },
   "source": [
    "---"
   ]
  },
  {
   "cell_type": "markdown",
   "metadata": {},
   "source": [
    "### Dropout"
   ]
  },
  {
   "cell_type": "markdown",
   "metadata": {},
   "source": [
    "As we learned from the lecture, dropout is a great technique to fight overfitting. So let's try to apply this on our example =)"
   ]
  },
  {
   "cell_type": "code",
   "execution_count": 0,
   "metadata": {
    "colab": {},
    "colab_type": "code",
    "id": "sfTHDKv6syNt"
   },
   "outputs": [],
   "source": [
    "hid_size = 100\n",
    "out_size = n_classes\n",
    "\n",
    "class TwoLayerNetDropout(nn.Module):\n",
    "    def __init__(self, h, w, hid_size, out_size):\n",
    "        super(TwoLayerNetDropout, self).__init__()\n",
    "        \n",
    "        # layers\n",
    "        self.linear1 = nn.Linear(h*w, hid_size)\n",
    "        self.dropout1 = <Your code here>\n",
    "        \n",
    "        self.linear2 = nn.Linear(hid_size, hid_size)\n",
    "        self.dropout2 = <Your code here>\n",
    "\n",
    "    def forward(self, x):\n",
    "        \n",
    "        # don't forget activations\n",
    "        <Your code here>\n",
    "        return x"
   ]
  },
  {
   "cell_type": "code",
   "execution_count": 0,
   "metadata": {
    "colab": {},
    "colab_type": "code",
    "id": "klqA4nHTsy0c"
   },
   "outputs": [],
   "source": [
    "two_layer_net = TwoLayerNetDropout(h=IMG_H, w=IMG_W, hid_size=hid_size, out_size=out_size)\n",
    "loss_fn = torch.nn.CrossEntropyLoss()\n",
    "learning_rate=1e-3\n",
    "optimizer = torch.optim.Adam(two_layer_net.parameters(), lr=learning_rate)"
   ]
  },
  {
   "cell_type": "code",
   "execution_count": 1,
   "metadata": {
    "colab": {
     "base_uri": "https://localhost:8080/",
     "height": 201
    },
    "colab_type": "code",
    "id": "AVxGlIyys0eb",
    "outputId": "d4f84935-ad8d-47ac-c50e-732bab205710"
   },
   "outputs": [],
   "source": [
    "train(train_loader, val_loader, num_epochs=20)"
   ]
  },
  {
   "cell_type": "markdown",
   "metadata": {
    "colab_type": "text",
    "id": "6wzJL30Zsw1H"
   },
   "source": [
    "### Batch Normalization (BatchNorm) "
   ]
  },
  {
   "cell_type": "markdown",
   "metadata": {},
   "source": [
    "And also let's play with batch normalization. How will network perfomance change and why?"
   ]
  },
  {
   "cell_type": "code",
   "execution_count": 0,
   "metadata": {
    "colab": {},
    "colab_type": "code",
    "id": "bbhcYXpzs1_D"
   },
   "outputs": [],
   "source": [
    "hid_size = 100\n",
    "out_size = n_classes\n",
    "\n",
    "class TwoLayerNetBN(nn.Module):\n",
    "    def __init__(self, h, w, hid_size, out_size):\n",
    "        super(TwoLayerNet_BN, self).__init__()\n",
    "        # объявляем слои для нашей сети\n",
    "        self.linear1 = nn.Linear(h*w, hid_size)\n",
    "        self.dropout1 = <Your code here>\n",
    "        self.batch_norm1 = nn.BatchNorm1d(hid_size)\n",
    "        \n",
    "        self.linear2 = nn.Linear(hid_size, hid_size)\n",
    "        self.dropout2 = <Your code here>\n",
    "        self.batch_norm2 = nn.BatchNorm1d(hid_size)\n",
    "       \n",
    "        self.linear3 = nn.Linear(hid_size, out_size)\n",
    "\n",
    "    def forward(self, x):\n",
    "        \n",
    "        # don't forget activations\n",
    "        <Your code here>\n",
    "        return x"
   ]
  },
  {
   "cell_type": "code",
   "execution_count": 0,
   "metadata": {
    "colab": {},
    "colab_type": "code",
    "id": "MMCB5OEatEkS"
   },
   "outputs": [],
   "source": [
    "two_layer_net = TwoLayerNetBN(h=IMG_H, w=IMG_W, hid_size=hid_size, out_size=out_size)\n",
    "loss_fn = torch.nn.CrossEntropyLoss()\n",
    "learning_rate=5e-4\n",
    "optimizer = torch.optim.Adam(two_layer_net.parameters(), lr=learning_rate)"
   ]
  },
  {
   "cell_type": "code",
   "execution_count": 0,
   "metadata": {
    "colab": {},
    "colab_type": "code",
    "id": "HNX5fX21tFMe"
   },
   "outputs": [],
   "source": [
    "train(train_loader, val_loader, num_epochs=20)"
   ]
  }
 ],
 "metadata": {
  "accelerator": "GPU",
  "colab": {
   "collapsed_sections": [],
   "name": "Seminar_7_2.ipynb",
   "provenance": [],
   "version": "0.3.2"
  },
  "kernelspec": {
   "display_name": "Python 3",
   "language": "python",
   "name": "python3"
  },
  "language_info": {
   "codemirror_mode": {
    "name": "ipython",
    "version": 3
   },
   "file_extension": ".py",
   "mimetype": "text/x-python",
   "name": "python",
   "nbconvert_exporter": "python",
   "pygments_lexer": "ipython3",
   "version": "3.6.4"
  }
 },
 "nbformat": 4,
 "nbformat_minor": 1
}
