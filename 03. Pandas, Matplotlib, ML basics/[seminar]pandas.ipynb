{
 "cells": [
  {
   "cell_type": "markdown",
   "metadata": {
    "colab_type": "text",
    "id": "H3DhPViKKByC"
   },
   "source": [
    "<img src=\"https://s8.hostingkartinok.com/uploads/images/2018/08/308b49fcfbc619d629fe4604bceb67ac.jpg\" width=500, height=450>\n",
    "<h3 style=\"text-align: center;\"><b>Phystech School of Applied Mathematics and Informatics (PSAMI) MIPT</b></h3>"
   ]
  },
  {
   "cell_type": "markdown",
   "metadata": {
    "colab_type": "text",
    "id": "ZkgBJNv3PeMg"
   },
   "source": [
    "<h2 style=\"text-align: center;\"><b>Pandas</b></h2>"
   ]
  },
  {
   "cell_type": "markdown",
   "metadata": {
    "colab_type": "text",
    "id": "vhA9Ii_9PeMh"
   },
   "source": [
    "<img align=left src=\"https://cdn.fedoramagazine.org/wp-content/uploads/2015/11/Python_logo.png\" width=450>\n",
    "\n",
    "<img align=center src=\"https://i1.wp.com/www.datapluspeople.com/wp-content/uploads/2018/04/pandas_logo-1080x675.jpg?resize=1080%2C675&ssl=1\" width=320>"
   ]
  },
  {
   "cell_type": "markdown",
   "metadata": {},
   "source": [
    "Now we have a look at pandas."
   ]
  },
  {
   "cell_type": "markdown",
   "metadata": {
    "colab_type": "text",
    "id": "x2Xghn8BPeMi"
   },
   "source": [
    "The `pandas` library is actively used in modern data science for working with data that can be presented in the form of tables (and this is a very, very large part of the data)"
   ]
  },
  {
   "cell_type": "markdown",
   "metadata": {
    "colab_type": "text",
    "id": "J3cOrbB-PeMj"
   },
   "source": [
    "This library is in the `Anaconda` package, but if you don’t have it for some reason, you can install it by uncommenting the following command:"
   ]
  },
  {
   "cell_type": "code",
   "execution_count": null,
   "metadata": {
    "colab": {},
    "colab_type": "code",
    "id": "0m9RUsh5PeMk"
   },
   "outputs": [],
   "source": [
    "#!pip install pandas"
   ]
  },
  {
   "cell_type": "code",
   "execution_count": null,
   "metadata": {
    "colab": {},
    "colab_type": "code",
    "id": "0pfDWn1mPeMo"
   },
   "outputs": [],
   "source": [
    "import numpy as np\n",
    "import pandas as pd"
   ]
  },
  {
   "cell_type": "markdown",
   "metadata": {
    "colab_type": "text",
    "id": "EztsOa5TPeMr"
   },
   "source": [
    "Now we are looking for data. Do you hear about the AppStore? :)"
   ]
  },
  {
   "cell_type": "markdown",
   "metadata": {
    "colab_type": "text",
    "id": "FLjV46gkPeMs"
   },
   "source": [
    "### Download the data: https://www.kaggle.com/ramamet4/app-store-apple-data-set-10k-apps"
   ]
  },
  {
   "cell_type": "markdown",
   "metadata": {
    "colab_type": "text",
    "id": "NYK2stA3PeMt"
   },
   "source": [
    "We are interested in the file`AppStore.csv`."
   ]
  },
  {
   "cell_type": "markdown",
   "metadata": {
    "colab_type": "text",
    "id": "KvavgKtMPeMu"
   },
   "source": [
    "`.csv` (Comma Separated Values) - probably the most common data format in modern data science. This is essentially the same as`.xls` (and `.xlsx`), that is, the table. "
   ]
  },
  {
   "cell_type": "markdown",
   "metadata": {
    "colab_type": "text",
    "id": "Cr6FxWoSPeMv"
   },
   "source": [
    "So, reading the data file:"
   ]
  },
  {
   "cell_type": "code",
   "execution_count": null,
   "metadata": {
    "colab": {},
    "colab_type": "code",
    "id": "3XxEcROcPeMw"
   },
   "outputs": [],
   "source": [
    "data = pd.read_csv('./AppleStore.csv')"
   ]
  },
  {
   "cell_type": "markdown",
   "metadata": {
    "colab_type": "text",
    "id": "F95NA5TqPeM0"
   },
   "source": [
    "Let’s see what the `data` variable is:"
   ]
  },
  {
   "cell_type": "code",
   "execution_count": null,
   "metadata": {
    "colab": {},
    "colab_type": "code",
    "id": "mh5U9sfDPeM1",
    "outputId": "4dbdc9b1-fa8e-4919-c303-5ec6294fc982",
    "scrolled": false
   },
   "outputs": [],
   "source": [
    "data.head() # This function shows the first few lines"
   ]
  },
  {
   "cell_type": "code",
   "execution_count": null,
   "metadata": {
    "colab": {},
    "colab_type": "code",
    "id": "K3KbqbrIPeM-",
    "outputId": "58b0edc8-6256-4041-c386-67f440913cfc"
   },
   "outputs": [],
   "source": [
    "type(data)"
   ]
  },
  {
   "cell_type": "markdown",
   "metadata": {
    "colab_type": "text",
    "id": "LKwJBNCMPeNC"
   },
   "source": [
    "type == `pandas.core.frame.DataFrame`, usually say just a data frame, that is, a 'piece of data'."
   ]
  },
  {
   "cell_type": "markdown",
   "metadata": {
    "colab_type": "text",
    "id": "7GlilwBWPeND"
   },
   "source": [
    "You can display a lot of information about the data frame:"
   ]
  },
  {
   "cell_type": "code",
   "execution_count": null,
   "metadata": {
    "colab": {},
    "colab_type": "code",
    "id": "oP_7AyMdPeNF",
    "outputId": "a868e2f6-4ab1-4d5a-f666-98da60cb658d",
    "scrolled": false
   },
   "outputs": [],
   "source": [
    "data.info()"
   ]
  },
  {
   "cell_type": "markdown",
   "metadata": {
    "colab_type": "text",
    "id": "2_-JpXRsPeNJ"
   },
   "source": [
    "This column appears after download that is why we will drop it:"
   ]
  },
  {
   "cell_type": "code",
   "execution_count": null,
   "metadata": {
    "colab": {},
    "colab_type": "code",
    "id": "UHrpMbCnPeNK"
   },
   "outputs": [],
   "source": [
    "data.drop(columns=['Unnamed: 0'], inplace=True)"
   ]
  },
  {
   "cell_type": "markdown",
   "metadata": {
    "colab_type": "text",
    "id": "usyUUpjePeNO"
   },
   "source": [
    "So, our data is some information about ***applications in the AppStore***. Now we will see what is there:"
   ]
  },
  {
   "cell_type": "code",
   "execution_count": null,
   "metadata": {
    "colab": {},
    "colab_type": "code",
    "id": "0OKhHwf6PeNP",
    "outputId": "c6531629-cdcb-44df-9b81-1577a72901e0",
    "scrolled": true
   },
   "outputs": [],
   "source": [
    "# all columns of the data frame (titles)\n",
    "data.columns"
   ]
  },
  {
   "cell_type": "markdown",
   "metadata": {
    "colab_type": "text",
    "id": "6A4210_EPeNT"
   },
   "source": [
    "More statistically significant information:"
   ]
  },
  {
   "cell_type": "code",
   "execution_count": null,
   "metadata": {
    "colab": {},
    "colab_type": "code",
    "id": "ZMpbcy1_PeNU",
    "outputId": "29920788-fa63-4085-d273-84aacad38b5a",
    "scrolled": true
   },
   "outputs": [],
   "source": [
    "data.describe()"
   ]
  },
  {
   "cell_type": "markdown",
   "metadata": {
    "colab_type": "text",
    "id": "6ZKt6dn0PeNY"
   },
   "source": [
    "All values of the data frame:"
   ]
  },
  {
   "cell_type": "code",
   "execution_count": null,
   "metadata": {
    "colab": {},
    "colab_type": "code",
    "id": "hjV8c992PeNZ",
    "outputId": "94d0f444-af3f-489e-d803-185ea72b0121"
   },
   "outputs": [],
   "source": [
    "# one line == description of one object, in this case, applications from the AppStore\n",
    "data.values"
   ]
  },
  {
   "cell_type": "code",
   "execution_count": null,
   "metadata": {
    "colab": {},
    "colab_type": "code",
    "id": "KE8o8luNPeNh",
    "outputId": "7bcc3c02-6c9c-45f4-e5fb-c5fae3cb1567",
    "scrolled": true
   },
   "outputs": [],
   "source": [
    "data.values[0]"
   ]
  },
  {
   "cell_type": "code",
   "execution_count": null,
   "metadata": {
    "colab": {},
    "colab_type": "code",
    "id": "G2MB1Xv5PeNq",
    "outputId": "1e228b7b-7cab-484c-dbf8-d10f04a6fcb4"
   },
   "outputs": [],
   "source": [
    "data.shape"
   ]
  },
  {
   "cell_type": "markdown",
   "metadata": {
    "colab_type": "text",
    "id": "Nasa5LhJPeNv"
   },
   "source": [
    "-- that is, 7197 rows and 17 columns."
   ]
  },
  {
   "cell_type": "markdown",
   "metadata": {
    "colab_type": "text",
    "id": "iCU03ItyPeNw"
   },
   "source": [
    "It is important to be able to access a specific row or column of the data frame. Indexing is very similar to numpy, however there are some subtleties:"
   ]
  },
  {
   "cell_type": "markdown",
   "metadata": {
    "colab_type": "text",
    "id": "toMx_eJnPeNx"
   },
   "source": [
    "* Get the entire column (in this case the column 'track_name')::"
   ]
  },
  {
   "cell_type": "code",
   "execution_count": null,
   "metadata": {
    "colab": {},
    "colab_type": "code",
    "id": "sscpNWsTPeNy",
    "outputId": "1aa9ca22-66b0-4512-8d01-f29dbf594819",
    "scrolled": true
   },
   "outputs": [],
   "source": [
    "data['track_name'] "
   ]
  },
  {
   "cell_type": "code",
   "execution_count": null,
   "metadata": {
    "colab": {},
    "colab_type": "code",
    "id": "Ox5cBczoPeN3",
    "outputId": "c3219d7f-877b-4bc6-84c8-7078eb813484",
    "scrolled": true
   },
   "outputs": [],
   "source": [
    "type(data['track_name'])"
   ]
  },
  {
   "cell_type": "markdown",
   "metadata": {},
   "source": [
    "The ‘track_name’ of the first object is:"
   ]
  },
  {
   "cell_type": "code",
   "execution_count": null,
   "metadata": {
    "colab": {},
    "colab_type": "code",
    "id": "6g7PI8GPPeN6",
    "outputId": "3c4e128c-9572-49e5-eed4-2d86fe72b56c"
   },
   "outputs": [],
   "source": [
    "data['track_name'][0]"
   ]
  },
  {
   "cell_type": "markdown",
   "metadata": {
    "colab_type": "text",
    "id": "mw5sN_4tPeN_"
   },
   "source": [
    "`pandas.core.series.Series` -- is a type of subsample data frame. "
   ]
  },
  {
   "cell_type": "markdown",
   "metadata": {
    "colab_type": "text",
    "id": "_YeQ41EzPeN_"
   },
   "source": [
    "* Get a specific string:"
   ]
  },
  {
   "cell_type": "markdown",
   "metadata": {},
   "source": [
    "We see that the type of this variable is DataFrame, because it is just a slice of the original date frame"
   ]
  },
  {
   "cell_type": "code",
   "execution_count": null,
   "metadata": {
    "colab": {},
    "colab_type": "code",
    "id": "rCKYW-NRPeOA",
    "outputId": "bde035c9-6615-4fc3-947c-c92071e3773e",
    "scrolled": false
   },
   "outputs": [],
   "source": [
    "data[10:11]"
   ]
  },
  {
   "cell_type": "code",
   "execution_count": null,
   "metadata": {
    "colab": {},
    "colab_type": "code",
    "id": "tmH0uuDRPeOD",
    "outputId": "7ffec369-ada6-40aa-9a29-f2567cfce900"
   },
   "outputs": [],
   "source": [
    "type(data[10:11])"
   ]
  },
  {
   "cell_type": "code",
   "execution_count": null,
   "metadata": {
    "colab": {},
    "colab_type": "code",
    "id": "ZbI9KnjcPeOH",
    "outputId": "ab17fa1b-1f78-4501-9bbe-2fc5bfccfe1c",
    "scrolled": true
   },
   "outputs": [],
   "source": [
    "data.iloc[10]"
   ]
  },
  {
   "cell_type": "code",
   "execution_count": null,
   "metadata": {
    "colab": {},
    "colab_type": "code",
    "id": "hT57lLfJPeOK",
    "outputId": "2b0bb240-69b0-41bd-caf9-2bb52a199713",
    "scrolled": true
   },
   "outputs": [],
   "source": [
    "type(data.iloc[10])"
   ]
  },
  {
   "cell_type": "markdown",
   "metadata": {
    "colab_type": "text",
    "id": "LORSBjePPeOO"
   },
   "source": [
    "`iloc`"
   ]
  },
  {
   "cell_type": "markdown",
   "metadata": {
    "colab_type": "text",
    "id": "LHZQ4Xx_PeOP"
   },
   "source": [
    "* reference to rows and columns by numeric index"
   ]
  },
  {
   "cell_type": "markdown",
   "metadata": {
    "colab_type": "text",
    "id": "Qufp2g43PeOP"
   },
   "source": [
    "-- `data.iloc[i, j]`, where `i` -- the number of the string, `j` -- the number of the column"
   ]
  },
  {
   "cell_type": "code",
   "execution_count": null,
   "metadata": {
    "colab": {},
    "colab_type": "code",
    "id": "mUr2CtWUPeOQ",
    "outputId": "c1767115-113d-470b-c45e-6b53c6e9bbcb",
    "scrolled": false
   },
   "outputs": [],
   "source": [
    "data.iloc[50, 1]"
   ]
  },
  {
   "cell_type": "code",
   "execution_count": null,
   "metadata": {
    "colab": {},
    "colab_type": "code",
    "id": "nOG0Ji2UPeOU",
    "outputId": "f345fb29-5439-4d15-9476-bead005cc3e0"
   },
   "outputs": [],
   "source": [
    "data.iloc[[50, 100], [1, 2]]"
   ]
  },
  {
   "cell_type": "code",
   "execution_count": null,
   "metadata": {
    "colab": {},
    "colab_type": "code",
    "id": "7_MBsO29PeOZ",
    "outputId": "c6c910b9-df6e-466d-f16d-abd3a880bbf8",
    "scrolled": true
   },
   "outputs": [],
   "source": [
    "data.iloc[50:60, 1:5]"
   ]
  },
  {
   "cell_type": "markdown",
   "metadata": {
    "colab_type": "text",
    "id": "S_dargZqPeOc"
   },
   "source": [
    "`loc`"
   ]
  },
  {
   "cell_type": "markdown",
   "metadata": {
    "colab_type": "text",
    "id": "arrFlV9APeOd"
   },
   "source": [
    "* reference to rows and columns by name"
   ]
  },
  {
   "cell_type": "markdown",
   "metadata": {
    "colab_type": "text",
    "id": "JIeGkjPrPeOh"
   },
   "source": [
    "-- `data.loc[name_s, name_c]`, where `name_s` -- the name of the string, `name_c` -- the name of the column"
   ]
  },
  {
   "cell_type": "code",
   "execution_count": null,
   "metadata": {
    "colab": {},
    "colab_type": "code",
    "id": "kR62t5tDPeOi",
    "outputId": "0977292a-886e-4ed9-c7dd-4002af60c75b"
   },
   "outputs": [],
   "source": [
    "data.loc[0, 'track_name']"
   ]
  },
  {
   "cell_type": "code",
   "execution_count": null,
   "metadata": {
    "colab": {},
    "colab_type": "code",
    "id": "CnTyI4XfPeOl",
    "outputId": "2e347997-0a8f-4f24-8c0b-efa6879c2cbc",
    "scrolled": true
   },
   "outputs": [],
   "source": [
    "data.loc[[0, 1, 2], ['track_name', 'id']]"
   ]
  },
  {
   "cell_type": "markdown",
   "metadata": {
    "colab_type": "text",
    "id": "OIT1EMhMPeOo"
   },
   "source": [
    "But usually you need to be able to answer more meaningful questions, for example:"
   ]
  },
  {
   "cell_type": "markdown",
   "metadata": {
    "colab_type": "text",
    "id": "fDOmZy8DPeOo"
   },
   "source": [
    "* How many applications have a user rating of at least 4?"
   ]
  },
  {
   "cell_type": "code",
   "execution_count": null,
   "metadata": {
    "colab": {},
    "colab_type": "code",
    "id": "_KgZDYG3PeOq",
    "outputId": "7b4efb71-d852-46ea-daff-c66f640a7aa7"
   },
   "outputs": [],
   "source": [
    "len(data[data['user_rating'] >= 4])"
   ]
  },
  {
   "cell_type": "markdown",
   "metadata": {
    "colab_type": "text",
    "id": "TaKStalnPeOu"
   },
   "source": [
    "* What types of the currencies are in the currency column?"
   ]
  },
  {
   "cell_type": "code",
   "execution_count": null,
   "metadata": {
    "colab": {},
    "colab_type": "code",
    "id": "5mJQ8fUBPeOu",
    "outputId": "04ea69b7-e419-4adb-93fa-dd3e588104bf"
   },
   "outputs": [],
   "source": [
    "np.unique(data['currency'])"
   ]
  },
  {
   "cell_type": "markdown",
   "metadata": {
    "colab_type": "text",
    "id": "2RdU6TTePeOy"
   },
   "source": [
    "* How many games are there? How many games are there with a rating of at least 4?"
   ]
  },
  {
   "cell_type": "code",
   "execution_count": null,
   "metadata": {
    "colab": {},
    "colab_type": "code",
    "id": "Vo0AWkKvPeOz",
    "outputId": "3904036e-4684-454c-e397-f87355ee3f46"
   },
   "outputs": [],
   "source": [
    "# 1\n",
    "len(data[data['prime_genre'] == 'Games'])"
   ]
  },
  {
   "cell_type": "code",
   "execution_count": null,
   "metadata": {
    "colab": {},
    "colab_type": "code",
    "id": "d4ufZ73MPeO4",
    "outputId": "1c4fb9ab-d673-492e-dd4f-36e5b3ea74e9"
   },
   "outputs": [],
   "source": [
    "# 2\n",
    "len(data[(data['user_rating'] >= 4) & (data['prime_genre'] == 'Games')])"
   ]
  },
  {
   "cell_type": "markdown",
   "metadata": {
    "colab_type": "text",
    "id": "IiGIbETlPeO7"
   },
   "source": [
    "The operator \"OR\" is similar to \"AND\", only it use as |"
   ]
  },
  {
   "cell_type": "code",
   "execution_count": null,
   "metadata": {
    "colab": {},
    "colab_type": "code",
    "id": "AcZIUTnZPeO8",
    "outputId": "f44bdba4-5893-4443-ebd6-c1953823e628"
   },
   "outputs": [],
   "source": [
    "len(data[(data['user_rating'] >= 4) | (data['prime_genre'] == 'Games')])"
   ]
  },
  {
   "cell_type": "markdown",
   "metadata": {
    "colab_type": "text",
    "id": "jRj3HmPPPeO-"
   },
   "source": [
    "Let's use data as `numpy array`"
   ]
  },
  {
   "cell_type": "code",
   "execution_count": null,
   "metadata": {
    "colab": {},
    "colab_type": "code",
    "id": "3EdajCzBPeO_",
    "outputId": "0847e05b-2aa6-4269-f639-f04f5365b5d8"
   },
   "outputs": [],
   "source": [
    "np.array(data['size_bytes'])"
   ]
  },
  {
   "cell_type": "code",
   "execution_count": null,
   "metadata": {
    "colab": {},
    "colab_type": "code",
    "id": "tq2bk_yCPePB",
    "outputId": "47ee69a4-add5-48c9-8dfe-f57524588e2b"
   },
   "outputs": [],
   "source": [
    "data['size_bytes'].values"
   ]
  }
 ],
 "metadata": {
  "colab": {
   "collapsed_sections": [],
   "name": "[seminar]pandas.ipynb",
   "provenance": [],
   "version": "0.3.2"
  },
  "kernelspec": {
   "display_name": "Python 3",
   "language": "python",
   "name": "python3"
  },
  "language_info": {
   "codemirror_mode": {
    "name": "ipython",
    "version": 3
   },
   "file_extension": ".py",
   "mimetype": "text/x-python",
   "name": "python",
   "nbconvert_exporter": "python",
   "pygments_lexer": "ipython3",
   "version": "3.7.0"
  }
 },
 "nbformat": 4,
 "nbformat_minor": 1
}
