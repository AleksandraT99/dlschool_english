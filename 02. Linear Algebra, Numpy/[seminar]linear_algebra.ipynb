{
 "cells": [
  {
   "cell_type": "markdown",
   "metadata": {
    "colab_type": "text",
    "id": "nWqtksLY0CQo"
   },
   "source": [
    "<p style=\"align: center;\"><img src=\"https://static.tildacdn.com/tild6636-3531-4239-b465-376364646465/Deep_Learning_School.png\", width=300, height=300></p>\n",
    "\n",
    "<h3 style=\"text-align: center;\"><b>PhysTech School of Applied Mathematics and Informatics (FPMI) MIPT </b> </h3>"
   ]
  },
  {
   "cell_type": "markdown",
   "metadata": {
    "colab_type": "text",
    "id": "4hsjykM60CQs"
   },
   "source": [
    "<h3 style=\"text-align: center;\"><b>Basics of linear algebra</b></h3>"
   ]
  },
  {
   "cell_type": "markdown",
   "metadata": {
    "colab_type": "text",
    "id": "FL6hojzC0CQu"
   },
   "source": [
    "---"
   ]
  },
  {
   "cell_type": "markdown",
   "metadata": {
    "colab_type": "text",
    "id": "V8XTUEXh0CQy"
   },
   "source": [
    "In this notebook, we will introduce the basic concepts of <b> linear algebra </b>.\n",
    "\n",
    "### Plan\n",
    "\n",
    "0. Why is this needed and what is it?\n",
    "1. Vectors and operations with them\n",
    "2. Matrices and operations with them"
   ]
  },
  {
   "cell_type": "markdown",
   "metadata": {
    "colab_type": "text",
    "id": "8BXlmLwm0CQ2"
   },
   "source": [
    "### 0. Why do we care?"
   ]
  },
  {
   "cell_type": "markdown",
   "metadata": {
    "colab_type": "text",
    "id": "GIFzbqqR0CQ4"
   },
   "source": [
    "In machine learning (and in data science), oddly enough, ** DATA ** is at the forefront. Without them, no analysis would be impossible, there would be no machine learning and deep learning, there would be no artificial intelligence in its modern sense."
   ]
  },
  {
   "cell_type": "markdown",
   "metadata": {
    "colab_type": "text",
    "id": "hkO3EbDB0CQ7"
   },
   "source": [
    "The data are of very different nature - sound, numeric, text, images, video, etc. However, a computer can only work with one thing - with numbers (and at the lowest level, as we know, these are just operations on ones and zeros). Therefore, any information, be it text, sound or pictures, is converted into numbers in any special way."
   ]
  },
  {
   "cell_type": "markdown",
   "metadata": {
    "colab_type": "text",
    "id": "9N3jkNly0CQ9"
   },
   "source": [
    "<img src=\"https://million-wallpapers.ru/wallpapers/0/87/446778168570142.jpg\" width=300, height=300, align=\"left\">\n",
    "<img src=\"https://im0-tub-ru.yandex.net/i?id=839e5beec70041e969018e66b648f45e&n=13\" width=300, height=300, align=\"left\">\n",
    "<img src=\"https://im0-tub-ru.yandex.net/i?id=099a32cda0827fe8b90e90aad0614bf2&n=13\" width=300, height=300, align=\"left\">"
   ]
  },
  {
   "cell_type": "markdown",
   "metadata": {
    "colab_type": "text",
    "id": "DjHIzEu-0CQ_"
   },
   "source": [
    "Accordingly, it is precisely because it is often very convenient to represent the data as vectors and matrices (and when developing machine learning models, the parameters of these models are also always conveniently represented as a matrix), and the connection of Deep Learning and Linear Algebra appeared (spoiler: neural networks are simply a set of matrices that interact with each other in a certain way)."
   ]
  },
  {
   "cell_type": "markdown",
   "metadata": {
    "colab_type": "text",
    "id": "uF3iRI4h5AjX"
   },
   "source": [
    "**Demos**\n",
    ">https://www.youtube.com/watch?v=aR6M0MQBo2w\n",
    "\n",
    ">http://vecg.cs.ucl.ac.uk/Projects/projects_fonts/projects_fonts.html"
   ]
  },
  {
   "cell_type": "markdown",
   "metadata": {
    "colab_type": "text",
    "id": "9HaAE0cH0CRF"
   },
   "source": [
    "**Example:**"
   ]
  },
  {
   "cell_type": "markdown",
   "metadata": {
    "colab_type": "text",
    "id": "g5gd5sTm0CRK"
   },
   "source": [
    "<img src=\"http://www.pvsm.ru/images/2018/07/26/instrumenty-Apple-dlya-mashinnogo-obucheniya-14.png\" width=500, height=300>\n",
    "\n",
    "<p style=\"text-align:center\">-- matrix. <br>One line of this matrix is a vector. One column of this matrix is also a vector.</p>"
   ]
  },
  {
   "cell_type": "markdown",
   "metadata": {
    "colab_type": "text",
    "id": "Nl6fw4ak0CRO"
   },
   "source": [
    "#### Definition"
   ]
  },
  {
   "cell_type": "markdown",
   "metadata": {
    "colab_type": "text",
    "id": "k2yUQMZN0CRQ"
   },
   "source": [
    "[Wikipedia](https://en.wikipedia.org/wiki/Linear_algebra)  \n",
    "**Linear algebra** is the branch of mathematics concerning linear equations such as\n",
    "\n",
    "${\\displaystyle a_{1}x_{1}+\\cdots +a_{n}x_{n}=b,}$ ${\\displaystyle a_{1}x_{1}+\\cdots +a_{n}x_{n}=b,}$\n",
    "linear functions such as\n",
    "\n",
    "${\\displaystyle (x_{1},\\ldots ,x_{n})\\mapsto a_{1}x_{1}+\\ldots +a_{n}x_{n},} {\\displaystyle (x_{1},\\ldots ,x_{n})\\mapsto a_{1}x_{1}+\\ldots +a_{n}x_{n},}$\n",
    "and their representations through matrices and vector spaces."
   ]
  },
  {
   "cell_type": "markdown",
   "metadata": {
    "colab_type": "text",
    "id": "-u-2-mb_0CRS"
   },
   "source": [
    "For us from linear algebra, only two objects are now of interest - the vector and the matrix. Let's consider It in more detail"
   ]
  },
  {
   "cell_type": "markdown",
   "metadata": {
    "colab_type": "text",
    "id": "XFcdA_wO0CRV"
   },
   "source": [
    "### 1. Vectors"
   ]
  },
  {
   "cell_type": "markdown",
   "metadata": {
    "colab_type": "text",
    "id": "nqPpC0_c0CRX"
   },
   "source": [
    "**Vector (or linear) space** is a mathematical structure that represents a set of elements called ** vectors ** for which the operations of addition to each other and multiplication by a number - a **scalar** are defined. These operations are subject to eight axioms (these 8 axioms are not very important for us now).\n",
    "\n",
    "In School we learned the vectors are something like this:"
   ]
  },
  {
   "cell_type": "markdown",
   "metadata": {
    "colab_type": "text",
    "id": "Iy3mx23_0CRb"
   },
   "source": [
    "<img src=\"https://upload.wikimedia.org/wikipedia/commons/thumb/8/83/VectorAB.svg/1200px-VectorAB.svg.png\" width=300 hight=300>"
   ]
  },
  {
   "cell_type": "markdown",
   "metadata": {
    "colab_type": "text",
    "id": "M9K6M4D90CRc"
   },
   "source": [
    "If you look at the analytical record, then these will be some two numbers characterizing the vector. For example, $ v = (5, -4) $, or $ m = (0, 100) $, (two coordinates)."
   ]
  },
  {
   "cell_type": "markdown",
   "metadata": {
    "colab_type": "text",
    "id": "aj8Uol8O0CR0"
   },
   "source": [
    "#### Operations on vectors"
   ]
  },
  {
   "cell_type": "markdown",
   "metadata": {
    "colab_type": "text",
    "id": "4b3Y3Mu10CR2"
   },
   "source": [
    "***one). Addition and subtraction: ***\n",
    "\n",
    "On the plane there are the rules of a triangle and a parallelogram to perform geometric addition and subtraction of vectors. Analytically, we, in fact, simply add / subtract the corresponding coordinates (they are also called components) of the vectors.\n",
    "\n",
    "Therefore, the operations of addition and subtraction over vectors are nothing but the addition and subtraction of the corresponding components of these vectors:\n",
    "\n",
    "$a ~ + ~ b = (a_1, a_2, .., a_n) + (b_1, b_2, .., b_n) = (a_1 + b_1, a_2 + b_2, .., b_n + b_n)$\n",
    "\n",
    "Vector + Vector = **Vector**\n",
    "\n",
    "$a ~ - ~ b = (a_1, a_2, .., a_n) - (b_1, b_2, .., b_n) = (a_1 - b_1, a_2 - b_2, .., b_n - b_n)$\n",
    "\n",
    "Vector - Vector = **Vector**\n",
    "\n",
    "**Examples:**\n",
    "\n",
    "$(- 15, 10) - (5, 6) = (-20, 4)$\n",
    "\n",
    "$(1, 0, 100) + (2, 3, 1000) = (3, 3, 1100)$"
   ]
  },
  {
   "cell_type": "markdown",
   "metadata": {
    "colab_type": "text",
    "id": "9R18X0iz0CR4"
   },
   "source": [
    "***2). Multiplication:***"
   ]
  },
  {
   "cell_type": "markdown",
   "metadata": {
    "colab_type": "text",
    "id": "m3k41rNo0CR8"
   },
   "source": [
    "There are three types on multiplication:"
   ]
  },
  {
   "cell_type": "markdown",
   "metadata": {
    "colab_type": "text",
    "id": "NPIPRgQ10CR_"
   },
   "source": [
    "*a). Element-wise:*"
   ]
  },
  {
   "cell_type": "markdown",
   "metadata": {
    "colab_type": "text",
    "id": "ON0NLdXd0CSC"
   },
   "source": [
    "$a~*~b = (a_1, a_2, .., a_n) * (b_1, b_2, .., b_n) = (a_1 * b_1, a_2 * b_2, .., b_n * b_n)$\n",
    "\n",
    "Vector * Vector = **Vector**"
   ]
  },
  {
   "cell_type": "markdown",
   "metadata": {
    "colab_type": "text",
    "id": "PHOEnh3w0CSE"
   },
   "source": [
    "*b). Scalar product*"
   ]
  },
  {
   "cell_type": "markdown",
   "metadata": {
    "colab_type": "text",
    "id": "JOBBHqo20CSG"
   },
   "source": [
    "$a~\\cdot~b = (a_1, a_2, .., a_n) \\cdot (b_1, b_2, .., b_n) = a_1b_1 + a_2b_2 + .. + b_nb_n = \\sum_{i=1}^{n} a_ib_i$\n",
    "\n",
    "Vector $\\cdot$ Vector = **Scalar**"
   ]
  },
  {
   "cell_type": "markdown",
   "metadata": {
    "colab_type": "text",
    "id": "-P67l3KW0CSI"
   },
   "source": [
    "*c). Vector product*"
   ]
  },
  {
   "cell_type": "markdown",
   "metadata": {
    "colab_type": "text",
    "id": "vLgmD5E_0CSS"
   },
   "source": [
    "We won't discuss It during the course, but nothing would prevent you to read about It here [for example]: (https://www.mathsisfun.com/algebra/vectors-cross-product.html)"
   ]
  },
  {
   "cell_type": "markdown",
   "metadata": {
    "colab_type": "text",
    "id": "6iZmlA7l0CSV"
   },
   "source": [
    "---"
   ]
  },
  {
   "cell_type": "markdown",
   "metadata": {
    "colab_type": "text",
    "id": "wt6iwM430CSe"
   },
   "source": [
    "***3). Division:***"
   ]
  },
  {
   "cell_type": "markdown",
   "metadata": {
    "colab_type": "text",
    "id": "pqabithe0CSi"
   },
   "source": [
    "\n",
    "By vector division, we mean element-by-element division. However, be careful - in case of division by 0, we agree to assume that the value is not defined (None)."
   ]
  },
  {
   "cell_type": "markdown",
   "metadata": {
    "colab_type": "text",
    "id": "tTOc3y250CSk"
   },
   "source": [
    "$a~/~b = (a_1, a_2, .., a_n)~/~(b_1, b_2, .., b_n) = (a_1~/~b_1, a_2~/~b_2, .., b_n~/~b_n)$\n",
    "\n",
    "Vector / Vector = **Vector**"
   ]
  },
  {
   "cell_type": "markdown",
   "metadata": {
    "colab_type": "text",
    "id": "OqnheTxq0CSn"
   },
   "source": [
    "---"
   ]
  },
  {
   "cell_type": "markdown",
   "metadata": {
    "colab_type": "text",
    "id": "G1il2Uq30CSx"
   },
   "source": [
    "### 3. Matrices"
   ]
  },
  {
   "cell_type": "markdown",
   "metadata": {
    "colab_type": "text",
    "id": "jPYCBSKm0CS9"
   },
   "source": [
    "Roughly speaking, matrices are such tables (and may the Department of Higher Mathematics of MIPT forgive me). They have rows and columns, that is, these are objects that have two sizes - the length by rows and the length by columns:"
   ]
  },
  {
   "cell_type": "markdown",
   "metadata": {
    "colab_type": "text",
    "id": "PiC6FPye0CS_"
   },
   "source": [
    "$$\n",
    "A = \\begin{bmatrix}\n",
    "    x_{11} & x_{12} & x_{13} & \\dots  & x_{1n} \\\\\n",
    "    x_{21} & x_{22} & x_{23} & \\dots  & x_{2n} \\\\\n",
    "    \\vdots & \\vdots & \\vdots & \\ddots & \\vdots \\\\\n",
    "    x_{m1} & x_{m2} & x_{m3} & \\dots  & x_{mn}\n",
    "\\end{bmatrix}\n",
    "$$"
   ]
  },
  {
   "cell_type": "markdown",
   "metadata": {
    "colab_type": "text",
    "id": "hPmevwi70CTC"
   },
   "source": [
    "\n",
    "The size of the matrix shown above is $(m, n)$.\n",
    "\n",
    "You can look at the matrix and on the other hand - as a vector of vectors (by the way, this interpretation will be useful to you later on when programming in NumPy)."
   ]
  },
  {
   "cell_type": "markdown",
   "metadata": {
    "colab_type": "text",
    "id": "yjGwxbRx0CTJ"
   },
   "source": [
    "#### Operations\n"
   ]
  },
  {
   "cell_type": "markdown",
   "metadata": {
    "colab_type": "text",
    "id": "zuGDpHbm0CTN"
   },
   "source": [
    "Addition, subtraction, elementwise multiplication and elementwise division of matrices is carried out in the same way as for vectors - the corresponding elements are added / subtracted / multiplied.\n",
    "\n",
    "However, one of these operations needs to be taken into account - the dimensions of the matrices **must completely coincide**."
   ]
  },
  {
   "cell_type": "markdown",
   "metadata": {
    "colab_type": "text",
    "id": "AJCp_bLZ0CTQ"
   },
   "source": [
    "---"
   ]
  },
  {
   "cell_type": "markdown",
   "metadata": {
    "colab_type": "text",
    "id": "QD9MI3gj0CTT"
   },
   "source": [
    "#### Excersice\n",
    "\n",
    "\n",
    "Add, subtract, multiply by elements and divide the matrices:\n",
    "\n",
    "1). \n",
    "$\n",
    "A = \\begin{bmatrix}\n",
    "    1 & 2 & 10 \\\\\n",
    "    5 & 1 & -13\n",
    "\\end{bmatrix}\n",
    "$ \n",
    "и\n",
    "$\n",
    "B = \\begin{bmatrix}\n",
    "    -5 & -5 & 3 \\\\\n",
    "    0 & 1 & 2\n",
    "\\end{bmatrix}\n",
    "$\n",
    "\n",
    "2). \n",
    "$\n",
    "A = \\begin{bmatrix}\n",
    "    1 & 2 & 10 \\\\\n",
    "    5 & 1 & -13\n",
    "\\end{bmatrix}\n",
    "$ \n",
    "и\n",
    "$\n",
    "B = \\begin{bmatrix}\n",
    "    -5 & -5 & 3 & 15 \\\\\n",
    "    0 & 1 & 2 & 100\n",
    "\\end{bmatrix}\n",
    "$\n",
    "\n",
    "3). \n",
    "$\n",
    "A = \\begin{bmatrix}\n",
    "    1 & 2 & 10 \\\\\n",
    "    5 & 1 & -13\n",
    "\\end{bmatrix}\n",
    "$ \n",
    "и\n",
    "$\n",
    "B = \\begin{bmatrix}\n",
    "    -5 & -5 \\\\\n",
    "    0 & 1 \\\\\n",
    "    10 & 20 \\\\\n",
    "    -15.5 & -1\n",
    "\\end{bmatrix}\n",
    "$"
   ]
  },
  {
   "cell_type": "markdown",
   "metadata": {
    "colab_type": "text",
    "id": "JdIhmO4F0CTZ"
   },
   "source": [
    "---"
   ]
  },
  {
   "cell_type": "markdown",
   "metadata": {
    "colab_type": "text",
    "id": "ut5oSf4Y0CTd"
   },
   "source": [
    "Now we define a very important operation - **matrix product** (not elementwise):\n",
    "\n",
    "nice pictures from Wikipedia:\n",
    "https://en.wikipedia.org/wiki/Matrix_multiplication"
   ]
  },
  {
   "cell_type": "markdown",
   "metadata": {
    "colab_type": "text",
    "id": "v_kHDUAP0CTm"
   },
   "source": [
    "let's take an example"
   ]
  },
  {
   "cell_type": "code",
   "execution_count": 0,
   "metadata": {
    "colab": {
     "base_uri": "https://localhost:8080/",
     "height": 85
    },
    "colab_type": "code",
    "executionInfo": {
     "elapsed": 621,
     "status": "ok",
     "timestamp": 1537629954179,
     "user": {
      "displayName": "Даниил Акопян",
      "photoUrl": "",
      "userId": "00158003536515238452"
     },
     "user_tz": -180
    },
    "id": "JWYATFdl0CTp",
    "outputId": "ce4d7ffb-c1e4-481e-a575-d0a0713bc02f"
   },
   "outputs": [
    {
     "name": "stdout",
     "output_type": "stream",
     "text": [
      "[[0 2]\n",
      " [0 4]\n",
      " [0 6]\n",
      " [0 8]]\n"
     ]
    }
   ],
   "source": [
    "import numpy as np\n",
    "a = np.array(\n",
    "[\n",
    "    [1,2],\n",
    "    [3,4],\n",
    "    [5,6],\n",
    "    [7,8]\n",
    "]\n",
    ")\n",
    "\n",
    "b = np.array(\n",
    "[\n",
    "    [0,0],\n",
    "    [0,1]    \n",
    "]\n",
    "    \n",
    ")\n",
    "\n",
    "print(np.dot(a,b))"
   ]
  },
  {
   "cell_type": "markdown",
   "metadata": {
    "colab_type": "text",
    "id": "5cCS3RWu0CT0"
   },
   "source": [
    "---"
   ]
  },
  {
   "cell_type": "markdown",
   "metadata": {
    "colab_type": "text",
    "id": "FaIxAcnj0CT2"
   },
   "source": [
    "#### Excersice"
   ]
  },
  {
   "cell_type": "markdown",
   "metadata": {
    "colab_type": "text",
    "id": "fimETmoq0CT4"
   },
   "source": [
    "\n",
    "Multiply matrices (matrix) (they are intentionally given in this form - you need to get used to it):\n",
    "\n",
    "**a):**   \n",
    "A = [[2, 3, -2], [9, 0, 1], [1, 0, 0]]  \n",
    "B = [[1], [2], [3]]  \n",
    "\n",
    "**b):**  \n",
    "A = [[10, 20, 30, 5], [-9, -1, 2, -1]]  \n",
    "B = [[1, 1], [2, 2], [5, 5], [11, 12]]  \n",
    "\n",
    "**c):**\n",
    "A = [[10, 20, 30, 5], [-9, -1, 2, -1]]  \n",
    "B = [[1, 1], [2, 2], [5, 5]]  "
   ]
  }
 ],
 "metadata": {
  "colab": {
   "collapsed_sections": [
    "xNMFRyZ90CRh",
    "gZpsR3VH0CRt",
    "aj8Uol8O0CR0",
    "sg4dRgUA0CSX",
    "ZQ5dNbFj0CSp"
   ],
   "name": "[seminar]linear_algebra.ipynb",
   "provenance": [],
   "version": "0.3.2"
  },
  "kernelspec": {
   "display_name": "Python 3",
   "language": "python",
   "name": "python3"
  },
  "language_info": {
   "codemirror_mode": {
    "name": "ipython",
    "version": 3
   },
   "file_extension": ".py",
   "mimetype": "text/x-python",
   "name": "python",
   "nbconvert_exporter": "python",
   "pygments_lexer": "ipython3",
   "version": "3.6.8"
  }
 },
 "nbformat": 4,
 "nbformat_minor": 1
}
