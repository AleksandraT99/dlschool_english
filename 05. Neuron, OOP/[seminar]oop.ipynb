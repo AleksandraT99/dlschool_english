{
 "cells": [
  {
   "cell_type": "markdown",
   "metadata": {
    "colab_type": "text",
    "id": "H3DhPViKKByC"
   },
   "source": [
    "<img src=\"https://s8.hostingkartinok.com/uploads/images/2018/08/308b49fcfbc619d629fe4604bceb67ac.jpg\" width=500, height=450>\n",
    "<h3 style=\"text-align: center;\"><b>Phystech School of Applied Mathematics and Informatics (PSAMI) MIPT</b></h3>"
   ]
  },
  {
   "cell_type": "markdown",
   "metadata": {
    "colab_type": "text",
    "id": "r17X2cDDKBj2"
   },
   "source": [
    "---"
   ]
  },
  {
   "cell_type": "markdown",
   "metadata": {
    "colab_type": "text",
    "id": "HeMcLtgwJRKY"
   },
   "source": [
    "<h2 style=\"text-align: center;\"><b>Object-oriented programming (OOP)</b></h2>"
   ]
  },
  {
   "cell_type": "markdown",
   "metadata": {
    "colab_type": "text",
    "id": "8g8muHlBKBsL"
   },
   "source": [
    "---"
   ]
  },
  {
   "cell_type": "markdown",
   "metadata": {},
   "source": [
    "Imagine you are a car architect. You understand that your vehicle must have an engine, a suspension, 2 headlights, 4 wheel etc. You describe all the parts needed to build a car as well as ways theese parts interact with each other. Besides, you define the way user can make the car to stop or to enable backlights. The result of you work will be some sketch. You have just developed the thing called <b>class</b> in OOP"
   ]
  },
  {
   "cell_type": "code",
   "execution_count": 8,
   "metadata": {
    "colab": {
     "base_uri": "https://localhost:8080/",
     "height": 856
    },
    "colab_type": "code",
    "executionInfo": {
     "elapsed": 575,
     "status": "ok",
     "timestamp": 1539446773722,
     "user": {
      "displayName": "Маза Факер",
      "photoUrl": "",
      "userId": "00428038539447448724"
     },
     "user_tz": -180
    },
    "id": "oQ0UkrY0JRKa",
    "outputId": "0b652bcc-1d34-4bac-e934-66c208e2b098"
   },
   "outputs": [
    {
     "data": {
      "text/html": [
       "<img src=\"https://cs5.pikabu.ru/post_img/big/2015/12/14/6/1450080142173639353.jpg\"/>"
      ],
      "text/plain": [
       "<IPython.core.display.Image object>"
      ]
     },
     "execution_count": 8,
     "metadata": {},
     "output_type": "execute_result"
    }
   ],
   "source": [
    "import numpy as np\n",
    "import matplotlib.pyplot as plt\n",
    "from IPython.display import Image\n",
    "from IPython.core.display import HTML \n",
    "Image(url= \"https://cs5.pikabu.ru/post_img/big/2015/12/14/6/1450080142173639353.jpg\")"
   ]
  },
  {
   "cell_type": "markdown",
   "metadata": {},
   "source": [
    "<b>Classes</b> play the role of plants of instances. Their properties define a behavior - attributes and functions - are inherited by all of the instaces.<br>\n",
    "Example: the function computing a cost of a trip from consumed fuel."
   ]
  },
  {
   "cell_type": "markdown",
   "metadata": {},
   "source": [
    "<b>Instances</b> represent individual pieces of data. Specific values of their fields may be different, but data they store and methods provide are the same. <br>\n",
    "Example: two instances of a class Car, both have wheels, but their amount can vary."
   ]
  },
  {
   "cell_type": "code",
   "execution_count": null,
   "metadata": {
    "colab": {
     "base_uri": "https://localhost:8080/",
     "height": 34
    },
    "colab_type": "code",
    "executionInfo": {
     "elapsed": 585,
     "status": "ok",
     "timestamp": 1539447493045,
     "user": {
      "displayName": "Sir. Klop300channel",
      "photoUrl": "",
      "userId": "17461207290813147689"
     },
     "user_tz": -180
    },
    "id": "QnHoiUvFJRKg",
    "outputId": "d9651294-c825-45ea-e4e3-53c26acf8f2b"
   },
   "outputs": [],
   "source": [
    "class Start:\n",
    "    def say_hello (self):\n",
    "        print('Hello, world!')\n",
    "Start().say_hello() "
   ]
  },
  {
   "cell_type": "markdown",
   "metadata": {},
   "source": [
    "Let's create class Car. (object) is not obligatory"
   ]
  },
  {
   "cell_type": "code",
   "execution_count": 2,
   "metadata": {
    "colab": {
     "base_uri": "https://localhost:8080/",
     "height": 34
    },
    "colab_type": "code",
    "executionInfo": {
     "elapsed": 767,
     "status": "ok",
     "timestamp": 1539447493857,
     "user": {
      "displayName": "Sir. Klop300channel",
      "photoUrl": "",
      "userId": "17461207290813147689"
     },
     "user_tz": -180
    },
    "id": "4SuVKVZbJRKk",
    "outputId": "b775a1d7-3995-483f-a83d-50ddcf2aa66e"
   },
   "outputs": [
    {
     "data": {
      "text/plain": [
       "<__main__.Car at 0x25bc952db00>"
      ]
     },
     "execution_count": 2,
     "metadata": {},
     "output_type": "execute_result"
    }
   ],
   "source": [
    "class Car(object):\n",
    "    def __init__(self, model=None, number=None):\n",
    "        self.number = number\n",
    "        self.model = model\n",
    "\n",
    "my_car = Car('BMW')\n",
    "my_car"
   ]
  },
  {
   "cell_type": "code",
   "execution_count": 3,
   "metadata": {
    "colab": {
     "base_uri": "https://localhost:8080/",
     "height": 34
    },
    "colab_type": "code",
    "executionInfo": {
     "elapsed": 580,
     "status": "ok",
     "timestamp": 1539447496065,
     "user": {
      "displayName": "Sir. Klop300channel",
      "photoUrl": "",
      "userId": "17461207290813147689"
     },
     "user_tz": -180
    },
    "id": "-aOGERrjJRKo",
    "outputId": "fca382ba-0f26-45fc-ea07-73bd4104613c"
   },
   "outputs": [
    {
     "data": {
      "text/plain": [
       "'BMW'"
      ]
     },
     "execution_count": 3,
     "metadata": {},
     "output_type": "execute_result"
    }
   ],
   "source": [
    "my_car.model"
   ]
  },
  {
   "cell_type": "markdown",
   "metadata": {},
   "source": [
    "Try to create your own class Car, so that fields \"passengers\", \"color\", \"speed\" will be initialized during creation"
   ]
  },
  {
   "cell_type": "code",
   "execution_count": 6,
   "metadata": {
    "colab": {
     "base_uri": "https://localhost:8080/",
     "height": 132
    },
    "colab_type": "code",
    "executionInfo": {
     "elapsed": 583,
     "status": "error",
     "timestamp": 1539447664213,
     "user": {
      "displayName": "Sir. Klop300channel",
      "photoUrl": "",
      "userId": "17461207290813147689"
     },
     "user_tz": -180
    },
    "id": "RV4VhX3VJRKs",
    "outputId": "f5057bac-8839-4239-f5bb-c8ab61957c45"
   },
   "outputs": [
    {
     "ename": "TypeError",
     "evalue": "__init__() missing 1 required positional argument: 'model'",
     "output_type": "error",
     "traceback": [
      "\u001b[1;31m---------------------------------------------------------------------------\u001b[0m",
      "\u001b[1;31mTypeError\u001b[0m                                 Traceback (most recent call last)",
      "\u001b[1;32m<ipython-input-6-0a840dc81216>\u001b[0m in \u001b[0;36m<module>\u001b[1;34m\u001b[0m\n\u001b[0;32m      4\u001b[0m         \u001b[1;31m# Your code here\u001b[0m\u001b[1;33m\u001b[0m\u001b[1;33m\u001b[0m\u001b[1;33m\u001b[0m\u001b[0m\n\u001b[0;32m      5\u001b[0m \u001b[1;33m\u001b[0m\u001b[0m\n\u001b[1;32m----> 6\u001b[1;33m \u001b[0mmy_car\u001b[0m \u001b[1;33m=\u001b[0m \u001b[0mCar\u001b[0m\u001b[1;33m(\u001b[0m\u001b[1;33m)\u001b[0m\u001b[1;33m\u001b[0m\u001b[1;33m\u001b[0m\u001b[0m\n\u001b[0m\u001b[0;32m      7\u001b[0m \u001b[0mmy_car\u001b[0m\u001b[1;33m\u001b[0m\u001b[1;33m\u001b[0m\u001b[0m\n",
      "\u001b[1;31mTypeError\u001b[0m: __init__() missing 1 required positional argument: 'model'"
     ]
    }
   ],
   "source": [
    "class Car:\n",
    "    def __init__(self, model):\n",
    "        self.model = model\n",
    "    \n",
    "my_car = Car()\n",
    "my_car"
   ]
  },
  {
   "cell_type": "markdown",
   "metadata": {},
   "source": [
    "Now create some cars with different parameters - properties of instances"
   ]
  },
  {
   "cell_type": "code",
   "execution_count": null,
   "metadata": {
    "colab": {},
    "colab_type": "code",
    "id": "5zLzPe8wJRKw"
   },
   "outputs": [],
   "source": [
    "car1 = Car()\n",
    "car2 = Car()"
   ]
  },
  {
   "cell_type": "markdown",
   "metadata": {},
   "source": [
    "Let's add a method (function) that is able to change the instances"
   ]
  },
  {
   "cell_type": "code",
   "execution_count": null,
   "metadata": {
    "colab": {},
    "colab_type": "code",
    "id": "uH60XwUcJRK3"
   },
   "outputs": [],
   "source": [
    "class Car:\n",
    "    def __init__(self, model, passengers, color, speed):\n",
    "        self.model = model\n",
    "        self.passengers = passengers\n",
    "        self.color = color\n",
    "        self.speed = speed"
   ]
  },
  {
   "cell_type": "code",
   "execution_count": null,
   "metadata": {
    "colab": {
     "base_uri": "https://localhost:8080/",
     "height": 34
    },
    "colab_type": "code",
    "executionInfo": {
     "elapsed": 553,
     "status": "ok",
     "timestamp": 1539447756752,
     "user": {
      "displayName": "Маза Факер",
      "photoUrl": "",
      "userId": "00428038539447448724"
     },
     "user_tz": -180
    },
    "id": "c0YPFo7lJRK6",
    "outputId": "4a35ef08-daa3-4401-806d-6927de7170f9"
   },
   "outputs": [],
   "source": [
    "Car.set_cost"
   ]
  },
  {
   "cell_type": "markdown",
   "metadata": {},
   "source": [
    "Set a price on BMW"
   ]
  },
  {
   "cell_type": "code",
   "execution_count": null,
   "metadata": {
    "colab": {
     "base_uri": "https://localhost:8080/",
     "height": 203
    },
    "colab_type": "code",
    "executionInfo": {
     "elapsed": 813,
     "status": "error",
     "timestamp": 1539448032174,
     "user": {
      "displayName": "Sir. Klop300channel",
      "photoUrl": "",
      "userId": "17461207290813147689"
     },
     "user_tz": -180
    },
    "id": "6rPx_D_PJRK-",
    "outputId": "98c20296-cdb0-44b1-9533-a5a0f539c2d4"
   },
   "outputs": [],
   "source": [
    "# here\n",
    "\n",
    "bmw.cost"
   ]
  },
  {
   "cell_type": "markdown",
   "metadata": {},
   "source": [
    "Let's be real. The cost of cars is not constant. Add a method def new_cost(self, year) to calculate it for n years ahead."
   ]
  },
  {
   "cell_type": "code",
   "execution_count": null,
   "metadata": {
    "colab": {},
    "colab_type": "code",
    "id": "UblOhUmjJRLB"
   },
   "outputs": [],
   "source": [
    "class Car:\n",
    "     def __init__(self, model, passengers, color, speed):\n",
    "        self.model = model\n",
    "        self.passengers = passengers\n",
    "        self.color = color\n",
    "        self.speed = speed\n",
    "        self.cost = 3e6"
   ]
  },
  {
   "cell_type": "markdown",
   "metadata": {},
   "source": [
    "Calculate this value five years ahead, and plot results with matplotlib"
   ]
  }
 ],
 "metadata": {
  "colab": {
   "collapsed_sections": [],
   "name": "OOP.ipynb",
   "provenance": [],
   "version": "0.3.2"
  },
  "kernelspec": {
   "display_name": "Python 3",
   "language": "python",
   "name": "python3"
  },
  "language_info": {
   "codemirror_mode": {
    "name": "ipython",
    "version": 3
   },
   "file_extension": ".py",
   "mimetype": "text/x-python",
   "name": "python",
   "nbconvert_exporter": "python",
   "pygments_lexer": "ipython3",
   "version": "3.7.1"
  }
 },
 "nbformat": 4,
 "nbformat_minor": 1
}
