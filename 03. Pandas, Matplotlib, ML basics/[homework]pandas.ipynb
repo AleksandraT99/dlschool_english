{
 "cells": [
  {
   "cell_type": "markdown",
   "metadata": {
    "colab_type": "text",
    "id": "H3DhPViKKByC"
   },
   "source": [
    "<img src=\"https://s8.hostingkartinok.com/uploads/images/2018/08/308b49fcfbc619d629fe4604bceb67ac.jpg\" width=500, height=450>\n",
    "<h3 style=\"text-align: center;\"><b>Phystech School of Applied Mathematics and Informatics (PSAMI) MIPT</b></h3>"
   ]
  },
  {
   "cell_type": "markdown",
   "metadata": {
    "colab_type": "text",
    "id": "hdGtSh1gLl_0"
   },
   "source": [
    "<h2 style=\"text-align: center;\"><b>Library <a href=\"http://pandas.pydata.org/\">pandas</a>: homework</b></h2>"
   ]
  },
  {
   "cell_type": "markdown",
   "metadata": {
    "colab_type": "text",
    "id": "xcGz2dvyLl_2"
   },
   "source": [
    "It is necessary to review and resolve the relevant seminar before this noteboook. It will be useful for you!"
   ]
  },
  {
   "cell_type": "code",
   "execution_count": null,
   "metadata": {
    "colab": {},
    "colab_type": "code",
    "id": "DP0vJEjULl_2"
   },
   "outputs": [],
   "source": [
    "#!pip install pandas"
   ]
  },
  {
   "cell_type": "code",
   "execution_count": null,
   "metadata": {
    "colab": {},
    "colab_type": "code",
    "id": "rieX-mKWLl_6"
   },
   "outputs": [],
   "source": [
    "import pandas as pd\n",
    "import numpy as np"
   ]
  },
  {
   "cell_type": "markdown",
   "metadata": {
    "colab_type": "text",
    "id": "VCtlt7N2Ll_-"
   },
   "source": [
    "<img src=\"http://www.keepcalmstudio.com/_gallery/1500/kcs_dd487f3f.png\" width=300 height=300>"
   ]
  },
  {
   "cell_type": "markdown",
   "metadata": {
    "colab_type": "text",
    "id": "ZfNQvXiFLl__"
   },
   "source": [
    "### DATA: https://www.kaggle.com/mehdidag/black-friday"
   ]
  },
  {
   "cell_type": "code",
   "execution_count": null,
   "metadata": {
    "colab": {},
    "colab_type": "code",
    "id": "ILUzAXW3LmAA"
   },
   "outputs": [],
   "source": [
    "data = pd.read_csv('./black-friday/BlackFriday.csv')"
   ]
  },
  {
   "cell_type": "markdown",
   "metadata": {
    "colab_type": "text",
    "id": "M0LAUnh7LmAD"
   },
   "source": [
    "Let's see what a variable is `data`:"
   ]
  },
  {
   "cell_type": "code",
   "execution_count": null,
   "metadata": {
    "colab": {},
    "colab_type": "code",
    "id": "Eu1ZE2mcLmAD"
   },
   "outputs": [],
   "source": [
    "data"
   ]
  },
  {
   "cell_type": "code",
   "execution_count": null,
   "metadata": {
    "colab": {},
    "colab_type": "code",
    "id": "_r3ewtDcLmAJ"
   },
   "outputs": [],
   "source": [
    "type(data)"
   ]
  },
  {
   "cell_type": "markdown",
   "metadata": {
    "colab_type": "text",
    "id": "pHFS4-JvLmAO"
   },
   "source": [
    "---"
   ]
  },
  {
   "cell_type": "markdown",
   "metadata": {
    "colab_type": "text",
    "id": "wNIVm7aFLmAO"
   },
   "source": [
    "#### Вопрос"
   ]
  },
  {
   "cell_type": "markdown",
   "metadata": {
    "colab_type": "text",
    "id": "5oi1-FKzLmAP"
   },
   "source": [
    "What is the data about?(Hint: https://www.kaggle.com/mehdidag/black-friday/home)"
   ]
  },
  {
   "cell_type": "markdown",
   "metadata": {
    "colab_type": "text",
    "id": "Scfw3SumLmAQ"
   },
   "source": [
    "---"
   ]
  },
  {
   "cell_type": "markdown",
   "metadata": {
    "colab_type": "text",
    "id": "kk6YRbwdLmAR"
   },
   "source": [
    "### The main task (in the test it will be necessary to insert answers for these items):"
   ]
  },
  {
   "cell_type": "markdown",
   "metadata": {
    "colab_type": "text",
    "id": "4afnbBpPLmAS"
   },
   "source": [
    "Note: do not be afraid to google and look in the \"Useful Links\" in order to perform some tasks. Perhaps the seminar did not have any desired method, but it is in a search engine for 2 minutes."
   ]
  },
  {
   "cell_type": "markdown",
   "metadata": {
    "colab_type": "text",
    "id": "KpzQ06kELmAT"
   },
   "source": [
    "**0).** How many age categories are there?  "
   ]
  },
  {
   "cell_type": "code",
   "execution_count": null,
   "metadata": {
    "colab": {},
    "colab_type": "code",
    "id": "MwtWmbLsLmAV"
   },
   "outputs": [],
   "source": [
    "# your code here"
   ]
  },
  {
   "cell_type": "markdown",
   "metadata": {
    "colab_type": "text",
    "id": "3LonqBZ2LmAY"
   },
   "source": [
    "**1).** How many men are from category A??  "
   ]
  },
  {
   "cell_type": "code",
   "execution_count": null,
   "metadata": {
    "colab": {},
    "colab_type": "code",
    "id": "uRQk9mpqLmAY"
   },
   "outputs": [],
   "source": [
    "# your code here"
   ]
  },
  {
   "cell_type": "markdown",
   "metadata": {
    "colab_type": "text",
    "id": "MPWBv5qyLmAb"
   },
   "source": [
    "**2).** How many women are between 46 and 50 who spent (column Purchase) more than 20,000 (conventional units, in this case)?  "
   ]
  },
  {
   "cell_type": "code",
   "execution_count": null,
   "metadata": {
    "colab": {},
    "colab_type": "code",
    "id": "GCSoByUYLmAc"
   },
   "outputs": [],
   "source": [
    "# your code here"
   ]
  },
  {
   "cell_type": "markdown",
   "metadata": {
    "colab_type": "text",
    "id": "BZJLdryaLmAf"
   },
   "source": [
    "**3).** How many NAN are in the Product_Category_3 column?  "
   ]
  },
  {
   "cell_type": "code",
   "execution_count": null,
   "metadata": {
    "colab": {},
    "colab_type": "code",
    "id": "HfA9gFHZLmAg"
   },
   "outputs": [],
   "source": [
    "# your code here"
   ]
  },
  {
   "cell_type": "markdown",
   "metadata": {
    "colab_type": "text",
    "id": "THcfAkL6LmAk"
   },
   "source": [
    "**4).** What percentage (real number from 0 to 1, rounded to the 5th digit) of all customers are TOGETHER men from 26 to 30 years old and women over 36 years old (i.e., several age categories need to be considered)?"
   ]
  },
  {
   "cell_type": "code",
   "execution_count": null,
   "metadata": {
    "colab": {},
    "colab_type": "code",
    "id": "gGbtYZddLmAm"
   },
   "outputs": [],
   "source": [
    "# your code here"
   ]
  },
  {
   "cell_type": "markdown",
   "metadata": {
    "colab_type": "text",
    "id": "rsHy3I8WLmAp"
   },
   "source": [
    "---"
   ]
  },
  {
   "cell_type": "markdown",
   "metadata": {
    "colab_type": "text",
    "id": "Ch6BQeGrLmAp"
   },
   "source": [
    "More about pandas can be found at this useful links:"
   ]
  },
  {
   "cell_type": "markdown",
   "metadata": {
    "colab_type": "text",
    "id": "j-peBYYeLmAp"
   },
   "source": [
    "* Official Tutorials http://pandas.pydata.org/pandas-docs/stable/tutorials.html"
   ]
  },
  {
   "cell_type": "markdown",
   "metadata": {
    "colab_type": "text",
    "id": "N7BGod6wLmAq"
   },
   "source": [
    "* Article on Habr from [OpenDataScience community](http://ods.ai/)**:** https://habr.com/company/ods/blog/322626/"
   ]
  },
  {
   "cell_type": "markdown",
   "metadata": {
    "colab_type": "text",
    "id": "g7sHATSTLmAr"
   },
   "source": [
    "* Detailed Guide: https://media.readthedocs.org/pdf/pandasguide/latest/pandasguide.pdf"
   ]
  },
  {
   "cell_type": "markdown",
   "metadata": {
    "colab_type": "text",
    "id": "18T31InnLmAs"
   },
   "source": [
    "The main thing in working with new libraries is not to be afraid to poke into different functions, look at the types of returned objects and actively use Google, and even better understand everything from the docstring (`Shift + Tab` when the cursor is inside the function brackets)."
   ]
  }
 ],
 "metadata": {
  "colab": {
   "collapsed_sections": [],
   "name": "[homework]pandas.ipynb",
   "provenance": [],
   "version": "0.3.2"
  },
  "kernelspec": {
   "display_name": "Python 3",
   "language": "python",
   "name": "python3"
  },
  "language_info": {
   "codemirror_mode": {
    "name": "ipython",
    "version": 3
   },
   "file_extension": ".py",
   "mimetype": "text/x-python",
   "name": "python",
   "nbconvert_exporter": "python",
   "pygments_lexer": "ipython3",
   "version": "3.7.0"
  }
 },
 "nbformat": 4,
 "nbformat_minor": 1
}
